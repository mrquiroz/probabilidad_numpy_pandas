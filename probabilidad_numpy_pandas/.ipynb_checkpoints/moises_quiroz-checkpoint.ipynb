{
 "cells": [
  {
   "cell_type": "markdown",
   "metadata": {},
   "source": [
    "#### Moises Quiroz Diaz"
   ]
  },
  {
   "cell_type": "markdown",
   "metadata": {},
   "source": [
    "#### Lectura de archivos\n",
    "    - Importe pandas y numpy siguiendo las convenciones.\n",
    "    - Lea la base de datos worldcup2014.csv y asígnela a un objeto df .\n",
    "    - Solicite las primeras 5 observaciones con head"
   ]
  },
  {
   "cell_type": "code",
   "execution_count": 2,
   "metadata": {},
   "outputs": [
    {
     "data": {
      "text/html": [
       "<div>\n",
       "<style scoped>\n",
       "    .dataframe tbody tr th:only-of-type {\n",
       "        vertical-align: middle;\n",
       "    }\n",
       "\n",
       "    .dataframe tbody tr th {\n",
       "        vertical-align: top;\n",
       "    }\n",
       "\n",
       "    .dataframe thead th {\n",
       "        text-align: right;\n",
       "    }\n",
       "</style>\n",
       "<table border=\"1\" class=\"dataframe\">\n",
       "  <thead>\n",
       "    <tr style=\"text-align: right;\">\n",
       "      <th></th>\n",
       "      <th>team</th>\n",
       "      <th>continent</th>\n",
       "      <th>group</th>\n",
       "      <th>group_pos</th>\n",
       "      <th>cantidad_juegos</th>\n",
       "      <th>juegos_ganados</th>\n",
       "      <th>juegos_empatados</th>\n",
       "      <th>juegos_perdidos</th>\n",
       "      <th>goles_favor</th>\n",
       "      <th>goles_contra</th>\n",
       "      <th>goles_diferencia</th>\n",
       "      <th>puntos</th>\n",
       "      <th>clasificado</th>\n",
       "    </tr>\n",
       "  </thead>\n",
       "  <tbody>\n",
       "    <tr>\n",
       "      <th>0</th>\n",
       "      <td>Brazil</td>\n",
       "      <td>southamerica</td>\n",
       "      <td>A</td>\n",
       "      <td>1</td>\n",
       "      <td>3</td>\n",
       "      <td>2</td>\n",
       "      <td>1</td>\n",
       "      <td>0</td>\n",
       "      <td>7</td>\n",
       "      <td>2</td>\n",
       "      <td>5</td>\n",
       "      <td>7</td>\n",
       "      <td>1</td>\n",
       "    </tr>\n",
       "    <tr>\n",
       "      <th>1</th>\n",
       "      <td>Mexico</td>\n",
       "      <td>northamerica</td>\n",
       "      <td>A</td>\n",
       "      <td>2</td>\n",
       "      <td>3</td>\n",
       "      <td>2</td>\n",
       "      <td>1</td>\n",
       "      <td>0</td>\n",
       "      <td>4</td>\n",
       "      <td>1</td>\n",
       "      <td>3</td>\n",
       "      <td>7</td>\n",
       "      <td>1</td>\n",
       "    </tr>\n",
       "    <tr>\n",
       "      <th>2</th>\n",
       "      <td>Croatia</td>\n",
       "      <td>europe</td>\n",
       "      <td>A</td>\n",
       "      <td>3</td>\n",
       "      <td>3</td>\n",
       "      <td>1</td>\n",
       "      <td>0</td>\n",
       "      <td>2</td>\n",
       "      <td>6</td>\n",
       "      <td>6</td>\n",
       "      <td>0</td>\n",
       "      <td>3</td>\n",
       "      <td>0</td>\n",
       "    </tr>\n",
       "    <tr>\n",
       "      <th>3</th>\n",
       "      <td>Cameroon</td>\n",
       "      <td>africa</td>\n",
       "      <td>A</td>\n",
       "      <td>4</td>\n",
       "      <td>3</td>\n",
       "      <td>0</td>\n",
       "      <td>0</td>\n",
       "      <td>3</td>\n",
       "      <td>1</td>\n",
       "      <td>9</td>\n",
       "      <td>−8</td>\n",
       "      <td>0</td>\n",
       "      <td>0</td>\n",
       "    </tr>\n",
       "    <tr>\n",
       "      <th>4</th>\n",
       "      <td>Netherlands</td>\n",
       "      <td>europe</td>\n",
       "      <td>B</td>\n",
       "      <td>1</td>\n",
       "      <td>3</td>\n",
       "      <td>3</td>\n",
       "      <td>0</td>\n",
       "      <td>0</td>\n",
       "      <td>10</td>\n",
       "      <td>3</td>\n",
       "      <td>7</td>\n",
       "      <td>9</td>\n",
       "      <td>1</td>\n",
       "    </tr>\n",
       "  </tbody>\n",
       "</table>\n",
       "</div>"
      ],
      "text/plain": [
       "          team     continent group  group_pos  cantidad_juegos  \\\n",
       "0       Brazil  southamerica     A          1                3   \n",
       "1       Mexico  northamerica     A          2                3   \n",
       "2      Croatia        europe     A          3                3   \n",
       "3     Cameroon        africa     A          4                3   \n",
       "4  Netherlands        europe     B          1                3   \n",
       "\n",
       "   juegos_ganados  juegos_empatados  juegos_perdidos  goles_favor  \\\n",
       "0               2                 1                0            7   \n",
       "1               2                 1                0            4   \n",
       "2               1                 0                2            6   \n",
       "3               0                 0                3            1   \n",
       "4               3                 0                0           10   \n",
       "\n",
       "   goles_contra goles_diferencia  puntos  clasificado  \n",
       "0             2                5       7            1  \n",
       "1             1                3       7            1  \n",
       "2             6                0       3            0  \n",
       "3             9               −8       0            0  \n",
       "4             3                7       9            1  "
      ]
     },
     "execution_count": 2,
     "metadata": {},
     "output_type": "execute_result"
    }
   ],
   "source": [
    "import pandas as pd\n",
    "df = pd.read_csv('worldcup2014.csv')\n",
    "df.headd(5)"
   ]
  },
  {
   "cell_type": "markdown",
   "metadata": {},
   "source": [
    "#### Estime las frecuencias de continent\n",
    "    -¿Cuál es el continente con una mayor presencia en la muestra?\n",
    "    -¿Cuál es la probabilidad de elegir un equipo asiático al azar?\n",
    "    -¿Cuál es la probabilidad de elegir un equipo africano al azar?"
   ]
  },
  {
   "cell_type": "code",
   "execution_count": 9,
   "metadata": {},
   "outputs": [
    {
     "data": {
      "text/plain": [
       "europe          13\n",
       "southamerica     6\n",
       "africa           5\n",
       "asia             4\n",
       "northamerica     4\n",
       "Name: continent, dtype: int64"
      ]
     },
     "execution_count": 9,
     "metadata": {},
     "output_type": "execute_result"
    }
   ],
   "source": [
    "df['continent'].value_counts()"
   ]
  },
  {
   "cell_type": "markdown",
   "metadata": {},
   "source": [
    "La maxima frecuencia la tiene Europa"
   ]
  },
  {
   "cell_type": "code",
   "execution_count": 11,
   "metadata": {},
   "outputs": [
    {
     "data": {
      "text/plain": [
       "europe          0.40625\n",
       "southamerica    0.18750\n",
       "africa          0.15625\n",
       "asia            0.12500\n",
       "northamerica    0.12500\n",
       "Name: continent, dtype: float64"
      ]
     },
     "execution_count": 11,
     "metadata": {},
     "output_type": "execute_result"
    }
   ],
   "source": [
    "df['continent'].value_counts(normalize=True)"
   ]
  },
  {
   "cell_type": "markdown",
   "metadata": {},
   "source": [
    "La probabilidad de un pais asiatico es 0.12500\n",
    "\n",
    "La probabilidad de un pais africano es 0.15625"
   ]
  },
  {
   "cell_type": "markdown",
   "metadata": {},
   "source": [
    "#### Probabilidades por continente\n",
    "    Por cada continente, genere un nuevo objeto que almacene sólo las observaciones del continente."
   ]
  },
  {
   "cell_type": "code",
   "execution_count": 13,
   "metadata": {},
   "outputs": [],
   "source": [
    "df_europe = df[df['continent'] == 'europe']\n",
    "df_southamerica = df[df['continent'] == 'southamerica']\n",
    "df_africa = df[df['continent'] == 'africa']\n",
    "df_asia = df[df['continent'] == 'asia']\n",
    "df_northamerica = df[df['continent'] == 'northamerica']"
   ]
  },
  {
   "cell_type": "markdown",
   "metadata": {},
   "source": [
    "#### Calcule la probabilidad de clasificación a la siguiente ronda\n",
    "    Pase todos los objetos creados en un loop que imprima la probabilidad de pasar a la siguiente\n",
    "    ronda por continente.\n",
    "    ¿Cuál fue la probabilidad de que un país asiático pase a la siguiente ronda?\n",
    "    ¿Cuáles fueron los dos continentes que tuvieron la mayor probabilidad de clasificar?\n",
    "    ¿Cuál fue la probabilidad de no clasificar un país europeo?"
   ]
  },
  {
   "cell_type": "code",
   "execution_count": 76,
   "metadata": {},
   "outputs": [
    {
     "name": "stdout",
     "output_type": "stream",
     "text": [
      "la probabilidad de que pase southamerica es: 0.8333333333333334\n",
      "la probabilidad de que pase northamerica es: 0.75\n",
      "la probabilidad de que pase europe es: 0.46153846153846156\n",
      "la probabilidad de que pase africa es: 0.4\n",
      "la probabilidad de que pase asia es: 0.0\n"
     ]
    }
   ],
   "source": [
    "lista_continentes=[df_southamerica,df_northamerica,df_europe,df_africa,df_asia]\n",
    "for i in lista_continentes:\n",
    "    probabilidad = 1-i['clasificado'].value_counts(normalize='True')[0]\n",
    "    nombre = i['continent'].unique()[0]\n",
    "    print('la probabilidad de que pase',nombre,'es:',probabilidad)"
   ]
  },
  {
   "cell_type": "markdown",
   "metadata": {},
   "source": [
    "##### La probabilidad de asia es 0\n",
    "##### Los 2 continentes fueron southameria y northamerica"
   ]
  },
  {
   "cell_type": "code",
   "execution_count": 72,
   "metadata": {},
   "outputs": [
    {
     "data": {
      "text/plain": [
       "0.5384615384615384"
      ]
     },
     "execution_count": 72,
     "metadata": {},
     "output_type": "execute_result"
    }
   ],
   "source": [
    "p = 1-0.46153846153846156\n",
    "p"
   ]
  },
  {
   "cell_type": "markdown",
   "metadata": {},
   "source": [
    "##### La probabilidad de no pasar de europa es 53.84%"
   ]
  },
  {
   "cell_type": "markdown",
   "metadata": {},
   "source": [
    "#### Refactorización"
   ]
  },
  {
   "cell_type": "markdown",
   "metadata": {},
   "source": [
    "A continuación se presenta un loop que cuenta las probabilidades de juegos ganados. Se pide\n",
    "que value_counts cuente los juegos no ganados y ganados, ignorando de la cantidad de\n",
    "juegos."
   ]
  },
  {
   "cell_type": "code",
   "execution_count": 75,
   "metadata": {},
   "outputs": [
    {
     "name": "stdout",
     "output_type": "stream",
     "text": [
      "1    0.6\n",
      "0    0.4\n",
      "Name: juegos_ganados, dtype: float64\n",
      "1    0.461538\n",
      "2    0.230769\n",
      "3    0.153846\n",
      "0    0.153846\n",
      "Name: juegos_ganados, dtype: float64\n",
      "0    1.0\n",
      "Name: juegos_ganados, dtype: float64\n",
      "2    0.50\n",
      "1    0.25\n",
      "0    0.25\n",
      "Name: juegos_ganados, dtype: float64\n",
      "2    0.500000\n",
      "3    0.333333\n",
      "1    0.166667\n",
      "Name: juegos_ganados, dtype: float64\n"
     ]
    }
   ],
   "source": [
    "for d in [df_africa, df_europe, df_asia, df_northamerica,df_southamerica]:\n",
    "    print(d['juegos_ganados'].value_counts('%'))"
   ]
  },
  {
   "cell_type": "markdown",
   "metadata": {},
   "source": [
    "##### np.where()\n",
    "Para ello puede utilizar np.where , que devuelve un array con valores imputados cuando se\n",
    "satisface una condición. En este caso debemos clasificar como 0 cuando los juegos ganados\n",
    "sean igual a 0, y 1 cuando sean igual o mayor a 1.\n",
    "\n",
    "Este array es difícil de trabajar, por lo que pueden transformarlo con pd.Series para utilizar\n",
    "value_counts ."
   ]
  },
  {
   "cell_type": "code",
   "execution_count": 87,
   "metadata": {},
   "outputs": [
    {
     "name": "stdout",
     "output_type": "stream",
     "text": [
      "Continente: southamerica \n",
      "\n",
      "1    1.0\n",
      "dtype: float64 \n",
      "\n",
      "Continente: northamerica \n",
      "\n",
      "1    0.75\n",
      "0    0.25\n",
      "dtype: float64 \n",
      "\n",
      "Continente: europe \n",
      "\n",
      "1    0.846154\n",
      "0    0.153846\n",
      "dtype: float64 \n",
      "\n",
      "Continente: africa \n",
      "\n",
      "1    0.6\n",
      "0    0.4\n",
      "dtype: float64 \n",
      "\n",
      "Continente: asia \n",
      "\n",
      "0    1.0\n",
      "dtype: float64 \n",
      "\n"
     ]
    }
   ],
   "source": [
    "for i in lista_continentes:\n",
    "    serie = pd.Series(np.where(i['juegos_ganados']>0,1,0)).value_counts(normalize=True)\n",
    "    nombre = i['continent'].unique()[0]\n",
    "    print('Continente:',nombre,'\\n')\n",
    "    print(serie,'\\n')"
   ]
  },
  {
   "cell_type": "markdown",
   "metadata": {},
   "source": [
    "En base a la refactorización del código, responda lo siguiente:\n",
    "\n",
    "    ¿Qué continente tuvo una mayor probabilidad de ganar juegos?\n",
    "    Respuesta: Europe\n",
    "    \n",
    "    ¿Qué continente presentó un nivel similar entre juegos ganados y perdidos?\n",
    "    Respuesta: Africa"
   ]
  },
  {
   "cell_type": "markdown",
   "metadata": {},
   "source": [
    "Utilize el código para el caso de juegos perdidos y analize el continente con una mayor\n",
    "probabilidad de perder."
   ]
  },
  {
   "cell_type": "code",
   "execution_count": 88,
   "metadata": {},
   "outputs": [
    {
     "name": "stdout",
     "output_type": "stream",
     "text": [
      "Continente: southamerica \n",
      "\n",
      "1    0.5\n",
      "0    0.5\n",
      "dtype: float64 \n",
      "\n",
      "Continente: northamerica \n",
      "\n",
      "1    0.5\n",
      "0    0.5\n",
      "dtype: float64 \n",
      "\n",
      "Continente: europe \n",
      "\n",
      "1    0.692308\n",
      "0    0.307692\n",
      "dtype: float64 \n",
      "\n",
      "Continente: africa \n",
      "\n",
      "1    1.0\n",
      "dtype: float64 \n",
      "\n",
      "Continente: asia \n",
      "\n",
      "1    1.0\n",
      "dtype: float64 \n",
      "\n"
     ]
    }
   ],
   "source": [
    "# 1 si ha perdido algun juego, 0 en caso contrario\n",
    "for i in lista_continentes:\n",
    "    serie = pd.Series(np.where(i['juegos_perdidos']>0,1,0)).value_counts(normalize=True)\n",
    "    nombre = i['continent'].unique()[0]\n",
    "    print('Continente:',nombre,'\\n')\n",
    "    print(serie,'\\n')"
   ]
  },
  {
   "cell_type": "markdown",
   "metadata": {},
   "source": [
    "Asia y Africa tienen mayor probabilidad de perder segun los datos obtenidos de la ultima funcion, pero aun asi se piensa que Asia es el mayor perdedor debido a los datos obtenidos en el codigo anterior"
   ]
  },
  {
   "cell_type": "code",
   "execution_count": null,
   "metadata": {},
   "outputs": [],
   "source": []
  }
 ],
 "metadata": {
  "kernelspec": {
   "display_name": "Python 3",
   "language": "python",
   "name": "python3"
  },
  "language_info": {
   "codemirror_mode": {
    "name": "ipython",
    "version": 3
   },
   "file_extension": ".py",
   "mimetype": "text/x-python",
   "name": "python",
   "nbconvert_exporter": "python",
   "pygments_lexer": "ipython3",
   "version": "3.6.8"
  }
 },
 "nbformat": 4,
 "nbformat_minor": 2
}
