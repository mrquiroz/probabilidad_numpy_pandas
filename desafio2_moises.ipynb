{
 "cells": [
  {
   "cell_type": "markdown",
   "metadata": {},
   "source": [
    "### Moises Quiroz Diaz"
   ]
  },
  {
   "cell_type": "code",
   "execution_count": 1,
   "metadata": {},
   "outputs": [],
   "source": [
    "import pandas as pd\n",
    "import numpy as np"
   ]
  },
  {
   "cell_type": "code",
   "execution_count": 2,
   "metadata": {},
   "outputs": [
    {
     "data": {
      "text/html": [
       "<div>\n",
       "<style scoped>\n",
       "    .dataframe tbody tr th:only-of-type {\n",
       "        vertical-align: middle;\n",
       "    }\n",
       "\n",
       "    .dataframe tbody tr th {\n",
       "        vertical-align: top;\n",
       "    }\n",
       "\n",
       "    .dataframe thead th {\n",
       "        text-align: right;\n",
       "    }\n",
       "</style>\n",
       "<table border=\"1\" class=\"dataframe\">\n",
       "  <thead>\n",
       "    <tr style=\"text-align: right;\">\n",
       "      <th></th>\n",
       "      <th>Unnamed: 0</th>\n",
       "      <th>cname</th>\n",
       "      <th>undp_hdi</th>\n",
       "      <th>ccodealp</th>\n",
       "      <th>ht_region</th>\n",
       "      <th>gle_cgdpc</th>\n",
       "      <th>imf_pop</th>\n",
       "      <th>ffp_hf</th>\n",
       "      <th>wef_qes</th>\n",
       "      <th>wdi_expedu</th>\n",
       "      <th>wdi_ners</th>\n",
       "    </tr>\n",
       "  </thead>\n",
       "  <tbody>\n",
       "    <tr>\n",
       "      <th>0</th>\n",
       "      <td>86</td>\n",
       "      <td>Kazakhstan</td>\n",
       "      <td>0.793</td>\n",
       "      <td>KAZ</td>\n",
       "      <td>EastEurope</td>\n",
       "      <td>14098.8800</td>\n",
       "      <td>17.422001</td>\n",
       "      <td>3.6</td>\n",
       "      <td>3.581975</td>\n",
       "      <td>2.78750</td>\n",
       "      <td>95.946281</td>\n",
       "    </tr>\n",
       "    <tr>\n",
       "      <th>1</th>\n",
       "      <td>16</td>\n",
       "      <td>Bhutan</td>\n",
       "      <td>0.604</td>\n",
       "      <td>BTN</td>\n",
       "      <td>SouthAsia</td>\n",
       "      <td>5639.0200</td>\n",
       "      <td>0.766000</td>\n",
       "      <td>6.8</td>\n",
       "      <td>4.033873</td>\n",
       "      <td>5.92460</td>\n",
       "      <td>62.838310</td>\n",
       "    </tr>\n",
       "    <tr>\n",
       "      <th>2</th>\n",
       "      <td>79</td>\n",
       "      <td>Iraq</td>\n",
       "      <td>0.649</td>\n",
       "      <td>IRQ</td>\n",
       "      <td>NorthAfrica</td>\n",
       "      <td>4178.2598</td>\n",
       "      <td>32.577999</td>\n",
       "      <td>8.1</td>\n",
       "      <td>NaN</td>\n",
       "      <td>NaN</td>\n",
       "      <td>NaN</td>\n",
       "    </tr>\n",
       "    <tr>\n",
       "      <th>3</th>\n",
       "      <td>138</td>\n",
       "      <td>Portugal</td>\n",
       "      <td>0.841</td>\n",
       "      <td>PRT</td>\n",
       "      <td>WesternDem</td>\n",
       "      <td>23744.6310</td>\n",
       "      <td>10.401000</td>\n",
       "      <td>2.2</td>\n",
       "      <td>4.273323</td>\n",
       "      <td>5.12559</td>\n",
       "      <td>93.035027</td>\n",
       "    </tr>\n",
       "    <tr>\n",
       "      <th>4</th>\n",
       "      <td>157</td>\n",
       "      <td>Vietnam</td>\n",
       "      <td>0.678</td>\n",
       "      <td>VNM</td>\n",
       "      <td>SouthEastAsia</td>\n",
       "      <td>4147.5698</td>\n",
       "      <td>89.691002</td>\n",
       "      <td>5.6</td>\n",
       "      <td>3.336011</td>\n",
       "      <td>5.65873</td>\n",
       "      <td>NaN</td>\n",
       "    </tr>\n",
       "  </tbody>\n",
       "</table>\n",
       "</div>"
      ],
      "text/plain": [
       "   Unnamed: 0       cname  undp_hdi ccodealp      ht_region   gle_cgdpc  \\\n",
       "0          86  Kazakhstan     0.793      KAZ     EastEurope  14098.8800   \n",
       "1          16      Bhutan     0.604      BTN      SouthAsia   5639.0200   \n",
       "2          79        Iraq     0.649      IRQ    NorthAfrica   4178.2598   \n",
       "3         138    Portugal     0.841      PRT     WesternDem  23744.6310   \n",
       "4         157     Vietnam     0.678      VNM  SouthEastAsia   4147.5698   \n",
       "\n",
       "     imf_pop  ffp_hf   wef_qes  wdi_expedu   wdi_ners  \n",
       "0  17.422001     3.6  3.581975     2.78750  95.946281  \n",
       "1   0.766000     6.8  4.033873     5.92460  62.838310  \n",
       "2  32.577999     8.1       NaN         NaN        NaN  \n",
       "3  10.401000     2.2  4.273323     5.12559  93.035027  \n",
       "4  89.691002     5.6  3.336011     5.65873        NaN  "
      ]
     },
     "execution_count": 2,
     "metadata": {},
     "output_type": "execute_result"
    }
   ],
   "source": [
    "df = pd.read_csv('submuestra_jpbr.csv')\n",
    "df.head()"
   ]
  },
  {
   "cell_type": "code",
   "execution_count": 3,
   "metadata": {},
   "outputs": [],
   "source": [
    "from ancilliary_funcs import*"
   ]
  },
  {
   "cell_type": "markdown",
   "metadata": {},
   "source": [
    "### Estime el puntaje Z"
   ]
  },
  {
   "cell_type": "markdown",
   "metadata": {},
   "source": [
    "Estime el puntaze Z para las 10 primeras y últimas observaciones de las variables con una menor\n",
    "cantidad de datos perdidos\n",
    "\n",
    "    Genere una nueva columna en la tabla de datos mediante funciones vectorizadas. Recuerde\n",
    "    que para calcular el puntaje z de una observación se utiliza la fórmula: .\n",
    "    Para ordenar los valores pueden utilzar la función sort_values del DataFrame analizado.\n",
    "    Lean la documentación asociada al argumento by . Para evitar conflictos en la sobreescritura\n",
    "    Asegúrense de eliminar las observaciones que tengan valores perdidos con dropna . Lean la\n",
    "    documentación asociada al método subset .\n",
    "    Seleccionen las primeras y últimas 10 observaciones de la base reordenada. ¿Qué\n",
    "    características en común se encuentran?"
   ]
  },
  {
   "cell_type": "code",
   "execution_count": 4,
   "metadata": {},
   "outputs": [
    {
     "data": {
      "text/html": [
       "<div>\n",
       "<style scoped>\n",
       "    .dataframe tbody tr th:only-of-type {\n",
       "        vertical-align: middle;\n",
       "    }\n",
       "\n",
       "    .dataframe tbody tr th {\n",
       "        vertical-align: top;\n",
       "    }\n",
       "\n",
       "    .dataframe thead th {\n",
       "        text-align: right;\n",
       "    }\n",
       "</style>\n",
       "<table border=\"1\" class=\"dataframe\">\n",
       "  <thead>\n",
       "    <tr style=\"text-align: right;\">\n",
       "      <th></th>\n",
       "      <th>Unnamed: 0</th>\n",
       "      <th>cname</th>\n",
       "      <th>undp_hdi</th>\n",
       "      <th>ccodealp</th>\n",
       "      <th>ht_region</th>\n",
       "      <th>gle_cgdpc</th>\n",
       "      <th>imf_pop</th>\n",
       "      <th>ffp_hf</th>\n",
       "      <th>wef_qes</th>\n",
       "      <th>wdi_expedu</th>\n",
       "      <th>wdi_ners</th>\n",
       "    </tr>\n",
       "  </thead>\n",
       "  <tbody>\n",
       "    <tr>\n",
       "      <th>0</th>\n",
       "      <td>0.0</td>\n",
       "      <td>0.0</td>\n",
       "      <td>5.000000</td>\n",
       "      <td>0.0</td>\n",
       "      <td>0.0</td>\n",
       "      <td>1.000000</td>\n",
       "      <td>26.000000</td>\n",
       "      <td>11.000000</td>\n",
       "      <td>26.000000</td>\n",
       "      <td>32.000000</td>\n",
       "      <td>31.000000</td>\n",
       "    </tr>\n",
       "    <tr>\n",
       "      <th>1</th>\n",
       "      <td>0.0</td>\n",
       "      <td>0.0</td>\n",
       "      <td>0.051546</td>\n",
       "      <td>0.0</td>\n",
       "      <td>0.0</td>\n",
       "      <td>0.010309</td>\n",
       "      <td>0.268041</td>\n",
       "      <td>0.113402</td>\n",
       "      <td>0.268041</td>\n",
       "      <td>0.329897</td>\n",
       "      <td>0.319588</td>\n",
       "    </tr>\n",
       "  </tbody>\n",
       "</table>\n",
       "</div>"
      ],
      "text/plain": [
       "   Unnamed: 0  cname  undp_hdi  ccodealp  ht_region  gle_cgdpc    imf_pop  \\\n",
       "0         0.0    0.0  5.000000       0.0        0.0   1.000000  26.000000   \n",
       "1         0.0    0.0  0.051546       0.0        0.0   0.010309   0.268041   \n",
       "\n",
       "      ffp_hf    wef_qes  wdi_expedu   wdi_ners  \n",
       "0  11.000000  26.000000   32.000000  31.000000  \n",
       "1   0.113402   0.268041    0.329897   0.319588  "
      ]
     },
     "execution_count": 4,
     "metadata": {},
     "output_type": "execute_result"
    }
   ],
   "source": [
    "def count_nan_df(base):\n",
    "    columnas = base.columns\n",
    "    fu = lambda x: count_nan(df= base,var =x)\n",
    "    analisis = {columnas[i]:list(map(fu,columnas))[i] for i in range(len(columnas))}\n",
    "    analisis = pd.DataFrame.from_dict(analisis)\n",
    "    analisis.rename(index={0:'cantidad Nan',1:'porcentaje Nan'})\n",
    "    return analisis\n",
    "count_nan_df(df)"
   ]
  },
  {
   "cell_type": "code",
   "execution_count": 5,
   "metadata": {},
   "outputs": [],
   "source": [
    "df_p_10 = df.head(10)\n",
    "df_u_10 = df.tail(10)\n",
    "df_p_10 = df_p_10[['gle_cgdpc']]\n",
    "df_u_10 = df_u_10[['gle_cgdpc']]"
   ]
  },
  {
   "cell_type": "code",
   "execution_count": 6,
   "metadata": {},
   "outputs": [],
   "source": [
    "df_p_mean = df_p_10.mean()\n",
    "df_p_std = df_p_10.std()\n",
    "df_u_mean = df_u_10.mean()\n",
    "df_u_std = df_u_10.std()"
   ]
  },
  {
   "cell_type": "code",
   "execution_count": 7,
   "metadata": {},
   "outputs": [
    {
     "data": {
      "text/html": [
       "<div>\n",
       "<style scoped>\n",
       "    .dataframe tbody tr th:only-of-type {\n",
       "        vertical-align: middle;\n",
       "    }\n",
       "\n",
       "    .dataframe tbody tr th {\n",
       "        vertical-align: top;\n",
       "    }\n",
       "\n",
       "    .dataframe thead th {\n",
       "        text-align: right;\n",
       "    }\n",
       "</style>\n",
       "<table border=\"1\" class=\"dataframe\">\n",
       "  <thead>\n",
       "    <tr style=\"text-align: right;\">\n",
       "      <th></th>\n",
       "      <th>gle_cgdpc</th>\n",
       "      <th>z</th>\n",
       "    </tr>\n",
       "  </thead>\n",
       "  <tbody>\n",
       "    <tr>\n",
       "      <th>0</th>\n",
       "      <td>14098.88000</td>\n",
       "      <td>0.606532</td>\n",
       "    </tr>\n",
       "    <tr>\n",
       "      <th>1</th>\n",
       "      <td>5639.02000</td>\n",
       "      <td>-0.311789</td>\n",
       "    </tr>\n",
       "    <tr>\n",
       "      <th>2</th>\n",
       "      <td>4178.25980</td>\n",
       "      <td>-0.470355</td>\n",
       "    </tr>\n",
       "    <tr>\n",
       "      <th>3</th>\n",
       "      <td>23744.63100</td>\n",
       "      <td>1.653581</td>\n",
       "    </tr>\n",
       "    <tr>\n",
       "      <th>4</th>\n",
       "      <td>4147.56980</td>\n",
       "      <td>-0.473687</td>\n",
       "    </tr>\n",
       "    <tr>\n",
       "      <th>5</th>\n",
       "      <td>1354.29000</td>\n",
       "      <td>-0.776898</td>\n",
       "    </tr>\n",
       "    <tr>\n",
       "      <th>6</th>\n",
       "      <td>2624.05000</td>\n",
       "      <td>-0.639065</td>\n",
       "    </tr>\n",
       "    <tr>\n",
       "      <th>7</th>\n",
       "      <td>25295.27000</td>\n",
       "      <td>1.821904</td>\n",
       "    </tr>\n",
       "    <tr>\n",
       "      <th>8</th>\n",
       "      <td>3130.47000</td>\n",
       "      <td>-0.584093</td>\n",
       "    </tr>\n",
       "    <tr>\n",
       "      <th>9</th>\n",
       "      <td>900.77002</td>\n",
       "      <td>-0.826128</td>\n",
       "    </tr>\n",
       "  </tbody>\n",
       "</table>\n",
       "</div>"
      ],
      "text/plain": [
       "     gle_cgdpc         z\n",
       "0  14098.88000  0.606532\n",
       "1   5639.02000 -0.311789\n",
       "2   4178.25980 -0.470355\n",
       "3  23744.63100  1.653581\n",
       "4   4147.56980 -0.473687\n",
       "5   1354.29000 -0.776898\n",
       "6   2624.05000 -0.639065\n",
       "7  25295.27000  1.821904\n",
       "8   3130.47000 -0.584093\n",
       "9    900.77002 -0.826128"
      ]
     },
     "execution_count": 7,
     "metadata": {},
     "output_type": "execute_result"
    }
   ],
   "source": [
    "df_p_10['z']=(df_p_10-df_p_mean)/df_p_std\n",
    "z_o = df_p_10['z']\n",
    "df_p_10"
   ]
  },
  {
   "cell_type": "code",
   "execution_count": 8,
   "metadata": {},
   "outputs": [
    {
     "data": {
      "text/html": [
       "<div>\n",
       "<style scoped>\n",
       "    .dataframe tbody tr th:only-of-type {\n",
       "        vertical-align: middle;\n",
       "    }\n",
       "\n",
       "    .dataframe tbody tr th {\n",
       "        vertical-align: top;\n",
       "    }\n",
       "\n",
       "    .dataframe thead th {\n",
       "        text-align: right;\n",
       "    }\n",
       "</style>\n",
       "<table border=\"1\" class=\"dataframe\">\n",
       "  <thead>\n",
       "    <tr style=\"text-align: right;\">\n",
       "      <th></th>\n",
       "      <th>gle_cgdpc</th>\n",
       "      <th>z</th>\n",
       "    </tr>\n",
       "  </thead>\n",
       "  <tbody>\n",
       "    <tr>\n",
       "      <th>87</th>\n",
       "      <td>852.39001</td>\n",
       "      <td>-0.693098</td>\n",
       "    </tr>\n",
       "    <tr>\n",
       "      <th>88</th>\n",
       "      <td>6049.14990</td>\n",
       "      <td>-0.529016</td>\n",
       "    </tr>\n",
       "    <tr>\n",
       "      <th>89</th>\n",
       "      <td>1651.05000</td>\n",
       "      <td>-0.667881</td>\n",
       "    </tr>\n",
       "    <tr>\n",
       "      <th>90</th>\n",
       "      <td>8507.65040</td>\n",
       "      <td>-0.451392</td>\n",
       "    </tr>\n",
       "    <tr>\n",
       "      <th>91</th>\n",
       "      <td>332.26999</td>\n",
       "      <td>-0.709520</td>\n",
       "    </tr>\n",
       "    <tr>\n",
       "      <th>92</th>\n",
       "      <td>26481.36900</td>\n",
       "      <td>0.116107</td>\n",
       "    </tr>\n",
       "    <tr>\n",
       "      <th>93</th>\n",
       "      <td>42258.35200</td>\n",
       "      <td>0.614247</td>\n",
       "    </tr>\n",
       "    <tr>\n",
       "      <th>94</th>\n",
       "      <td>5899.93990</td>\n",
       "      <td>-0.533727</td>\n",
       "    </tr>\n",
       "    <tr>\n",
       "      <th>95</th>\n",
       "      <td>102243.52000</td>\n",
       "      <td>2.508209</td>\n",
       "    </tr>\n",
       "    <tr>\n",
       "      <th>96</th>\n",
       "      <td>33764.71100</td>\n",
       "      <td>0.346070</td>\n",
       "    </tr>\n",
       "  </tbody>\n",
       "</table>\n",
       "</div>"
      ],
      "text/plain": [
       "       gle_cgdpc         z\n",
       "87     852.39001 -0.693098\n",
       "88    6049.14990 -0.529016\n",
       "89    1651.05000 -0.667881\n",
       "90    8507.65040 -0.451392\n",
       "91     332.26999 -0.709520\n",
       "92   26481.36900  0.116107\n",
       "93   42258.35200  0.614247\n",
       "94    5899.93990 -0.533727\n",
       "95  102243.52000  2.508209\n",
       "96   33764.71100  0.346070"
      ]
     },
     "execution_count": 8,
     "metadata": {},
     "output_type": "execute_result"
    }
   ],
   "source": [
    "df_u_10['z']=(df_u_10-df_u_mean)/df_u_std\n",
    "z_o_u = df_u_10['z']\n",
    "df_u_10"
   ]
  },
  {
   "cell_type": "code",
   "execution_count": 9,
   "metadata": {},
   "outputs": [
    {
     "data": {
      "text/html": [
       "<div>\n",
       "<style scoped>\n",
       "    .dataframe tbody tr th:only-of-type {\n",
       "        vertical-align: middle;\n",
       "    }\n",
       "\n",
       "    .dataframe tbody tr th {\n",
       "        vertical-align: top;\n",
       "    }\n",
       "\n",
       "    .dataframe thead th {\n",
       "        text-align: right;\n",
       "    }\n",
       "</style>\n",
       "<table border=\"1\" class=\"dataframe\">\n",
       "  <thead>\n",
       "    <tr style=\"text-align: right;\">\n",
       "      <th></th>\n",
       "      <th>gle_cgdpc</th>\n",
       "      <th>z</th>\n",
       "    </tr>\n",
       "  </thead>\n",
       "  <tbody>\n",
       "    <tr>\n",
       "      <th>91</th>\n",
       "      <td>332.26999</td>\n",
       "      <td>-1.811025</td>\n",
       "    </tr>\n",
       "    <tr>\n",
       "      <th>11</th>\n",
       "      <td>488.26999</td>\n",
       "      <td>-1.280332</td>\n",
       "    </tr>\n",
       "    <tr>\n",
       "      <th>52</th>\n",
       "      <td>644.53998</td>\n",
       "      <td>-0.748720</td>\n",
       "    </tr>\n",
       "    <tr>\n",
       "      <th>87</th>\n",
       "      <td>852.39001</td>\n",
       "      <td>-0.041639</td>\n",
       "    </tr>\n",
       "    <tr>\n",
       "      <th>9</th>\n",
       "      <td>900.77002</td>\n",
       "      <td>0.122944</td>\n",
       "    </tr>\n",
       "    <tr>\n",
       "      <th>37</th>\n",
       "      <td>961.26001</td>\n",
       "      <td>0.328724</td>\n",
       "    </tr>\n",
       "    <tr>\n",
       "      <th>21</th>\n",
       "      <td>1024.93990</td>\n",
       "      <td>0.545355</td>\n",
       "    </tr>\n",
       "    <tr>\n",
       "      <th>28</th>\n",
       "      <td>1063.26000</td>\n",
       "      <td>0.675716</td>\n",
       "    </tr>\n",
       "    <tr>\n",
       "      <th>14</th>\n",
       "      <td>1095.96000</td>\n",
       "      <td>0.786957</td>\n",
       "    </tr>\n",
       "    <tr>\n",
       "      <th>35</th>\n",
       "      <td>1282.64000</td>\n",
       "      <td>1.422020</td>\n",
       "    </tr>\n",
       "  </tbody>\n",
       "</table>\n",
       "</div>"
      ],
      "text/plain": [
       "     gle_cgdpc         z\n",
       "91   332.26999 -1.811025\n",
       "11   488.26999 -1.280332\n",
       "52   644.53998 -0.748720\n",
       "87   852.39001 -0.041639\n",
       "9    900.77002  0.122944\n",
       "37   961.26001  0.328724\n",
       "21  1024.93990  0.545355\n",
       "28  1063.26000  0.675716\n",
       "14  1095.96000  0.786957\n",
       "35  1282.64000  1.422020"
      ]
     },
     "execution_count": 9,
     "metadata": {},
     "output_type": "execute_result"
    }
   ],
   "source": [
    "df_p_10 = df[['gle_cgdpc']].sort_values(by='gle_cgdpc').head(10)\n",
    "df_p_10['z']=(df_p_10-df_p_10.mean())/df_p_10.std()\n",
    "z_o_f = df_p_10['z']\n",
    "df_p_10"
   ]
  },
  {
   "cell_type": "code",
   "execution_count": 10,
   "metadata": {},
   "outputs": [
    {
     "data": {
      "text/html": [
       "<div>\n",
       "<style scoped>\n",
       "    .dataframe tbody tr th:only-of-type {\n",
       "        vertical-align: middle;\n",
       "    }\n",
       "\n",
       "    .dataframe tbody tr th {\n",
       "        vertical-align: top;\n",
       "    }\n",
       "\n",
       "    .dataframe thead th {\n",
       "        text-align: right;\n",
       "    }\n",
       "</style>\n",
       "<table border=\"1\" class=\"dataframe\">\n",
       "  <thead>\n",
       "    <tr style=\"text-align: right;\">\n",
       "      <th></th>\n",
       "      <th>gle_cgdpc</th>\n",
       "      <th>z</th>\n",
       "    </tr>\n",
       "  </thead>\n",
       "  <tbody>\n",
       "    <tr>\n",
       "      <th>26</th>\n",
       "      <td>37406.762</td>\n",
       "      <td>-0.818781</td>\n",
       "    </tr>\n",
       "    <tr>\n",
       "      <th>55</th>\n",
       "      <td>38868.039</td>\n",
       "      <td>-0.765428</td>\n",
       "    </tr>\n",
       "    <tr>\n",
       "      <th>83</th>\n",
       "      <td>39486.699</td>\n",
       "      <td>-0.742840</td>\n",
       "    </tr>\n",
       "    <tr>\n",
       "      <th>93</th>\n",
       "      <td>42258.352</td>\n",
       "      <td>-0.641645</td>\n",
       "    </tr>\n",
       "    <tr>\n",
       "      <th>72</th>\n",
       "      <td>47769.699</td>\n",
       "      <td>-0.440420</td>\n",
       "    </tr>\n",
       "    <tr>\n",
       "      <th>42</th>\n",
       "      <td>57634.770</td>\n",
       "      <td>-0.080238</td>\n",
       "    </tr>\n",
       "    <tr>\n",
       "      <th>22</th>\n",
       "      <td>64342.711</td>\n",
       "      <td>0.164675</td>\n",
       "    </tr>\n",
       "    <tr>\n",
       "      <th>95</th>\n",
       "      <td>102243.520</td>\n",
       "      <td>1.548468</td>\n",
       "    </tr>\n",
       "    <tr>\n",
       "      <th>29</th>\n",
       "      <td>108481.130</td>\n",
       "      <td>1.776209</td>\n",
       "    </tr>\n",
       "  </tbody>\n",
       "</table>\n",
       "</div>"
      ],
      "text/plain": [
       "     gle_cgdpc         z\n",
       "26   37406.762 -0.818781\n",
       "55   38868.039 -0.765428\n",
       "83   39486.699 -0.742840\n",
       "93   42258.352 -0.641645\n",
       "72   47769.699 -0.440420\n",
       "42   57634.770 -0.080238\n",
       "22   64342.711  0.164675\n",
       "95  102243.520  1.548468\n",
       "29  108481.130  1.776209"
      ]
     },
     "execution_count": 10,
     "metadata": {},
     "output_type": "execute_result"
    }
   ],
   "source": [
    "df_u_10 = df[['gle_cgdpc']].sort_values(by='gle_cgdpc').tail(10)\n",
    "df_u_10 =df_u_10.dropna(subset=['gle_cgdpc'])\n",
    "df_u_10['z']=(df_u_10-df_u_10.mean())/df_u_10.std()\n",
    "z_o_u_f = df_u_10['z']\n",
    "df_u_10"
   ]
  },
  {
   "cell_type": "code",
   "execution_count": 11,
   "metadata": {},
   "outputs": [],
   "source": [
    "import matplotlib.pyplot as plt"
   ]
  },
  {
   "cell_type": "code",
   "execution_count": 12,
   "metadata": {},
   "outputs": [
    {
     "data": {
      "text/plain": [
       "(array([1., 1., 0., 1., 0., 2., 1., 2., 1., 1.]),\n",
       " array([-1.81102535, -1.48772079, -1.16441622, -0.84111166, -0.51780709,\n",
       "        -0.19450253,  0.12880204,  0.4521066 ,  0.77541117,  1.09871573,\n",
       "         1.4220203 ]),\n",
       " <a list of 10 Patch objects>)"
      ]
     },
     "execution_count": 12,
     "metadata": {},
     "output_type": "execute_result"
    },
    {
     "data": {
      "image/png": "[encoded data removed]",
      "text/plain": [
       "<Figure size 432x288 with 1 Axes>"
      ]
     },
     "metadata": {
      "needs_background": "light"
     },
     "output_type": "display_data"
    }
   ],
   "source": [
    "plt.hist(z_o,color='r')\n",
    "plt.hist(z_o_f)"
   ]
  },
  {
   "cell_type": "code",
   "execution_count": 13,
   "metadata": {},
   "outputs": [
    {
     "name": "stdout",
     "output_type": "stream",
     "text": [
      "8.881784197001253e-17 8.881784197001253e-17\n"
     ]
    }
   ],
   "source": [
    "print(np.mean(z_o),np.mean(z_o_f))"
   ]
  },
  {
   "cell_type": "code",
   "execution_count": 14,
   "metadata": {},
   "outputs": [
    {
     "data": {
      "text/plain": [
       "(array([4., 1., 1., 1., 0., 0., 0., 0., 0., 2.]),\n",
       " array([-0.81878073, -0.55928176, -0.29978279, -0.04028382,  0.21921514,\n",
       "         0.47871411,  0.73821308,  0.99771204,  1.25721101,  1.51670998,\n",
       "         1.77620894]),\n",
       " <a list of 10 Patch objects>)"
      ]
     },
     "execution_count": 14,
     "metadata": {},
     "output_type": "execute_result"
    },
    {
     "data": {
      "image/png": "[encoded data removed]",
      "text/plain": [
       "<Figure size 432x288 with 1 Axes>"
      ]
     },
     "metadata": {
      "needs_background": "light"
     },
     "output_type": "display_data"
    }
   ],
   "source": [
    "plt.hist(z_o_u,color='r')\n",
    "plt.hist(z_o_u_f)"
   ]
  },
  {
   "cell_type": "code",
   "execution_count": 15,
   "metadata": {},
   "outputs": [
    {
     "name": "stdout",
     "output_type": "stream",
     "text": [
      "-1.3877787807814457e-16 2.4671622769447922e-17\n"
     ]
    }
   ],
   "source": [
    "print(np.mean(z_o_u),np.mean(z_o_u_f))"
   ]
  },
  {
   "cell_type": "markdown",
   "metadata": {},
   "source": [
    "las primeras 2 comparaciones de z si bien los graficos son distintos sus medias son las mismas\n",
    "\n",
    "Para las ultimas no se parece ni el grafico, pero el valor de las medias es cercano"
   ]
  },
  {
   "cell_type": "markdown",
   "metadata": {},
   "source": [
    "### Estime el puntaje z de las regiones"
   ]
  },
  {
   "cell_type": "code",
   "execution_count": 81,
   "metadata": {},
   "outputs": [],
   "source": [
    "def gen_dot(df,plot_var,plot_by,global_stat=False,statistic='mean'):\n",
    "    if statistic == 'mean':\n",
    "        if global_stat:\n",
    "            var1 = df.groupby(plot_by)[plot_var].mean()\n",
    "            var = plot_var\n",
    "            plt.plot(var1.values, var1.index, 'o')\n",
    "            plt.axvline(df[var].mean(), color='k', linestyle='dashed', linewidth=1)\n",
    "            plt.text(df[var].mean() + df[var].mean()/10, 5, 'Mean: {:.2f}'.format(df[var].mean()))\n",
    "            plt.show()\n",
    "        else:\n",
    "            var1 = df.groupby(plot_by)[plot_var].mean()\n",
    "            plt.plot(var1.values, var1.index, 'o')\n",
    "            plt.show()\n",
    "    if statistic == 'median':\n",
    "        if global_stat:\n",
    "            var1 = df.groupby(plot_by)[plot_var].median()\n",
    "            var = plot_var\n",
    "            plt.plot(var1.values, var1.index, 'o')\n",
    "            plt.axvline(df[var].median(), color='k', linestyle='dashed', linewidth=1)\n",
    "            plt.text(df[var].median() + df[var].median()/10, 5, 'Mediana: {:.2f}'.format(df[var].median()))\n",
    "            plt.show()\n",
    "        else:\n",
    "            var1 = df.groupby(plot_by)[plot_var].median()\n",
    "            plt.plot(var1.values, var1.index, 'o')\n",
    "            plt.show()\n",
    "    if statistic == 'z':\n",
    "        if global_stat:\n",
    "            mean = df.groupby(plot_by)[plot_var].transform('mean')\n",
    "            std = df.groupby(plot_by)[plot_var].transform('std')\n",
    "            z_score = lambda x : zscore(x)\n",
    "            var1 = (df.groupby(plot_by)[plot_var].transform(z_score)-a)/b\n",
    "            df_t = df\n",
    "            df_t['z'] = var1\n",
    "            var2 = df_t.groupby(plot_by)['z'].median()\n",
    "            plt.plot(var2.values, var2.index, 'o')\n",
    "            plt.axvline(df_t['z'].median(), color='k', linestyle='dashed', linewidth=1)\n",
    "            plt.text(df_t['z'].median() + df_t['z'].median()/10, 5, 'Media del z score: {:.2f}'.format(df_t['z'].median()))\n",
    "            plt.show()\n",
    "        else:\n",
    "            mean = df.groupby(plot_by)[plot_var].transform('mean')\n",
    "            std = df.groupby(plot_by)[plot_var].transform('std')\n",
    "            z_score = lambda x : zscore(x)\n",
    "            var1 = (df.groupby(plot_by)[plot_var].transform(z_score)-a)/b\n",
    "            df_t = df\n",
    "            df_t['z'] = var1\n",
    "            var2 = df_t.groupby(plot_by)['z'].median()\n",
    "            plt.plot(var2.values, var2.index, 'o')\n",
    "            plt.show()"
   ]
  },
  {
   "cell_type": "code",
   "execution_count": 82,
   "metadata": {},
   "outputs": [
    {
     "data": {
      "image/png": "[encoded data removed]",
      "text/plain": [
       "<Figure size 432x288 with 1 Axes>"
      ]
     },
     "metadata": {
      "needs_background": "light"
     },
     "output_type": "display_data"
    }
   ],
   "source": [
    "gen_dot(df,'gle_cgdpc','ht_region',True,'z')"
   ]
  },
  {
   "cell_type": "code",
   "execution_count": 83,
   "metadata": {},
   "outputs": [
    {
     "data": {
      "image/png": "[encoded data removed]",
      "text/plain": [
       "<Figure size 432x288 with 1 Axes>"
      ]
     },
     "metadata": {
      "needs_background": "light"
     },
     "output_type": "display_data"
    }
   ],
   "source": [
    "gen_dot(df,'gle_cgdpc','ht_region',True,'mean')"
   ]
  },
  {
   "cell_type": "markdown",
   "metadata": {},
   "source": [
    "#### Genere un método que devuelva un gráfico comparando dos curvas de densidad"
   ]
  },
  {
   "cell_type": "code",
   "execution_count": 98,
   "metadata": {},
   "outputs": [],
   "source": [
    "df2 = pd.read_csv('subsample_mrqd.csv')"
   ]
  },
  {
   "cell_type": "code",
   "execution_count": 128,
   "metadata": {},
   "outputs": [],
   "source": [
    "import matplotlib.mlab as mlab\n",
    "def gen_curvas(df1,df2,variable,log = False):\n",
    "    if log:\n",
    "        v1 = np.log(df1[variable])\n",
    "        v2 = np.log(df2[variable])\n",
    "        mu = v1.mean()\n",
    "        sigma = v1.std()\n",
    "        mu2 = v2.mean()\n",
    "        sigma2 = v2.std()\n",
    "        num_bins = 50\n",
    "        fig, ax = plt.subplots()\n",
    "        n, bins, patches = ax.hist(v1, num_bins, normed=1)\n",
    "        n2, bins, patchess = ax.hist(v2, num_bins, normed=1)\n",
    "        y = mlab.normpdf(bins, mu, sigma)\n",
    "        y2 = mlab.normpdf(bins, mu2, sigma2)\n",
    "        ax.plot(bins, y,'--',label='df1')\n",
    "        ax.plot(bins, y2,'--',label='df2')\n",
    "        ax.legend()\n",
    "        fig.tight_layout()\n",
    "        plt.show()\n",
    "    else:\n",
    "        v1 = df1[variable]\n",
    "        v2 = df2[variable]\n",
    "        mu = v1.mean()\n",
    "        sigma = v1.std()\n",
    "        mu2 = v2.mean()\n",
    "        sigma2 = v2.std()\n",
    "        num_bins = 50\n",
    "        fig, ax = plt.subplots()\n",
    "        n, bins, patches = ax.hist(v1, num_bins, normed=1)\n",
    "        n2, bins, patchess = ax.hist(v2, num_bins, normed=1)\n",
    "        y = mlab.normpdf(bins, mu, sigma)\n",
    "        y2 = mlab.normpdf(bins, mu2, sigma2)\n",
    "        ax.plot(bins, y,'--',label='df1')\n",
    "        ax.plot(bins, y2,'--',label='df2')\n",
    "        ax.legend()\n",
    "        fig.tight_layout()\n",
    "        plt.show()"
   ]
  },
  {
   "cell_type": "markdown",
   "metadata": {},
   "source": [
    "Grafique las curvas para imf_pop , gle_cgdpc y undp_hdi . ¿En qué casos es necesario utilizar logaritmos? ¿Por qué?"
   ]
  },
  {
   "cell_type": "code",
   "execution_count": 130,
   "metadata": {},
   "outputs": [
    {
     "name": "stderr",
     "output_type": "stream",
     "text": [
      "/Users/moisesquiroz/anaconda3/lib/python3.6/site-packages/ipykernel_launcher.py:14: MatplotlibDeprecationWarning: scipy.stats.norm.pdf\n",
      "  \n",
      "/Users/moisesquiroz/anaconda3/lib/python3.6/site-packages/ipykernel_launcher.py:15: MatplotlibDeprecationWarning: scipy.stats.norm.pdf\n",
      "  from ipykernel import kernelapp as app\n"
     ]
    },
    {
     "data": {
      "image/png": "[encoded data removed]",
      "text/plain": [
       "<Figure size 432x288 with 1 Axes>"
      ]
     },
     "metadata": {
      "needs_background": "light"
     },
     "output_type": "display_data"
    },
    {
     "name": "stderr",
     "output_type": "stream",
     "text": [
      "/Users/moisesquiroz/anaconda3/lib/python3.6/site-packages/ipykernel_launcher.py:32: MatplotlibDeprecationWarning: scipy.stats.norm.pdf\n",
      "/Users/moisesquiroz/anaconda3/lib/python3.6/site-packages/ipykernel_launcher.py:33: MatplotlibDeprecationWarning: scipy.stats.norm.pdf\n"
     ]
    },
    {
     "data": {
      "image/png": "[encoded data removed]",
      "text/plain": [
       "<Figure size 432x288 with 1 Axes>"
      ]
     },
     "metadata": {
      "needs_background": "light"
     },
     "output_type": "display_data"
    }
   ],
   "source": [
    "gen_curvas(df,df2,'imf_pop',True)\n",
    "gen_curvas(df,df2,'imf_pop',False)"
   ]
  },
  {
   "cell_type": "code",
   "execution_count": 131,
   "metadata": {},
   "outputs": [
    {
     "name": "stderr",
     "output_type": "stream",
     "text": [
      "/Users/moisesquiroz/anaconda3/lib/python3.6/site-packages/ipykernel_launcher.py:14: MatplotlibDeprecationWarning: scipy.stats.norm.pdf\n",
      "  \n",
      "/Users/moisesquiroz/anaconda3/lib/python3.6/site-packages/ipykernel_launcher.py:15: MatplotlibDeprecationWarning: scipy.stats.norm.pdf\n",
      "  from ipykernel import kernelapp as app\n"
     ]
    },
    {
     "data": {
      "image/png": "[encoded data removed]",
      "text/plain": [
       "<Figure size 432x288 with 1 Axes>"
      ]
     },
     "metadata": {
      "needs_background": "light"
     },
     "output_type": "display_data"
    },
    {
     "name": "stderr",
     "output_type": "stream",
     "text": [
      "/Users/moisesquiroz/anaconda3/lib/python3.6/site-packages/ipykernel_launcher.py:32: MatplotlibDeprecationWarning: scipy.stats.norm.pdf\n",
      "/Users/moisesquiroz/anaconda3/lib/python3.6/site-packages/ipykernel_launcher.py:33: MatplotlibDeprecationWarning: scipy.stats.norm.pdf\n"
     ]
    },
    {
     "data": {
      "image/png": "[encoded data removed]",
      "text/plain": [
       "<Figure size 432x288 with 1 Axes>"
      ]
     },
     "metadata": {
      "needs_background": "light"
     },
     "output_type": "display_data"
    }
   ],
   "source": [
    "gen_curvas(df,df2,'gle_cgdpc',True)\n",
    "gen_curvas(df,df2,'gle_cgdpc',False)"
   ]
  },
  {
   "cell_type": "code",
   "execution_count": 132,
   "metadata": {},
   "outputs": [
    {
     "name": "stderr",
     "output_type": "stream",
     "text": [
      "/Users/moisesquiroz/anaconda3/lib/python3.6/site-packages/ipykernel_launcher.py:14: MatplotlibDeprecationWarning: scipy.stats.norm.pdf\n",
      "  \n",
      "/Users/moisesquiroz/anaconda3/lib/python3.6/site-packages/ipykernel_launcher.py:15: MatplotlibDeprecationWarning: scipy.stats.norm.pdf\n",
      "  from ipykernel import kernelapp as app\n"
     ]
    },
    {
     "data": {
      "image/png": "[encoded data removed]",
      "text/plain": [
       "<Figure size 432x288 with 1 Axes>"
      ]
     },
     "metadata": {
      "needs_background": "light"
     },
     "output_type": "display_data"
    },
    {
     "name": "stderr",
     "output_type": "stream",
     "text": [
      "/Users/moisesquiroz/anaconda3/lib/python3.6/site-packages/ipykernel_launcher.py:32: MatplotlibDeprecationWarning: scipy.stats.norm.pdf\n",
      "/Users/moisesquiroz/anaconda3/lib/python3.6/site-packages/ipykernel_launcher.py:33: MatplotlibDeprecationWarning: scipy.stats.norm.pdf\n"
     ]
    },
    {
     "data": {
      "image/png": "[encoded data removed]",
      "text/plain": [
       "<Figure size 432x288 with 1 Axes>"
      ]
     },
     "metadata": {
      "needs_background": "light"
     },
     "output_type": "display_data"
    }
   ],
   "source": [
    "gen_curvas(df,df2,'undp_hdi',True)\n",
    "gen_curvas(df,df2,'undp_hdi',False)"
   ]
  },
  {
   "cell_type": "markdown",
   "metadata": {},
   "source": [
    "Se considera que es util utilizar logaritmos en los 3 casos, debido a que de esta forma los graficos muestran de mejor manera una distribucion log-normal ya que se asemejan a una campana de gauss"
   ]
  }
 ],
 "metadata": {
  "kernelspec": {
   "display_name": "Python 3",
   "language": "python",
   "name": "python3"
  },
  "language_info": {
   "codemirror_mode": {
    "name": "ipython",
    "version": 3
   },
   "file_extension": ".py",
   "mimetype": "text/x-python",
   "name": "python",
   "nbconvert_exporter": "python",
   "pygments_lexer": "ipython3",
   "version": "3.6.8"
  }
 },
 "nbformat": 4,
 "nbformat_minor": 2
}
