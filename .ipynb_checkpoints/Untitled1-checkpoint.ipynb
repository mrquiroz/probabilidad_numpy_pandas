{
 "cells": [
  {
   "cell_type": "markdown",
   "metadata": {},
   "source": [
    "### Moises Quiroz Diaz\n"
   ]
  },
  {
   "cell_type": "markdown",
   "metadata": {},
   "source": [
    "### 1. Genere una submuestra de casos\n",
    "Utilice los últimos 4 dígitos de su rut como semilla pseudoaleatoria.\n",
    "Seleccione el 50% de los casos.\n",
    "Cada base generada debe contener los siguientes elementos:\n",
    "\n",
    "    El índice de desarrollo humano ( undp_hdi )\n",
    "    El nombre del país ( ccodealp )\n",
    "    La región a la que pertenece ( ht_region )\n",
    "    El PIB per capita. ( gle_cgdpc )\n",
    "    El total de la población ( imf_pop )"
   ]
  },
  {
   "cell_type": "code",
   "execution_count": 257,
   "metadata": {},
   "outputs": [],
   "source": [
    "import pandas as pd\n",
    "import numpy as np"
   ]
  },
  {
   "cell_type": "code",
   "execution_count": 258,
   "metadata": {},
   "outputs": [
    {
     "data": {
      "text/html": [
       "<div>\n",
       "<style scoped>\n",
       "    .dataframe tbody tr th:only-of-type {\n",
       "        vertical-align: middle;\n",
       "    }\n",
       "\n",
       "    .dataframe tbody tr th {\n",
       "        vertical-align: top;\n",
       "    }\n",
       "\n",
       "    .dataframe thead th {\n",
       "        text-align: right;\n",
       "    }\n",
       "</style>\n",
       "<table border=\"1\" class=\"dataframe\">\n",
       "  <thead>\n",
       "    <tr style=\"text-align: right;\">\n",
       "      <th></th>\n",
       "      <th>Unnamed: 0</th>\n",
       "      <th>cname</th>\n",
       "      <th>ccodealp</th>\n",
       "      <th>ht_region</th>\n",
       "      <th>gle_cgdpc</th>\n",
       "      <th>undp_hdi</th>\n",
       "      <th>imf_pop</th>\n",
       "      <th>ffp_hf</th>\n",
       "      <th>wef_qes</th>\n",
       "      <th>wdi_expedu</th>\n",
       "      <th>wdi_ners</th>\n",
       "    </tr>\n",
       "  </thead>\n",
       "  <tbody>\n",
       "    <tr>\n",
       "      <th>0</th>\n",
       "      <td>42</td>\n",
       "      <td>Costa Rica</td>\n",
       "      <td>CRI</td>\n",
       "      <td>2</td>\n",
       "      <td>9485.71</td>\n",
       "      <td>0.77499998</td>\n",
       "      <td>Nan</td>\n",
       "      <td>3.5</td>\n",
       "      <td>4.666448593139648</td>\n",
       "      <td>6.9272398948669425</td>\n",
       "      <td>78.12113952636719</td>\n",
       "    </tr>\n",
       "    <tr>\n",
       "      <th>1</th>\n",
       "      <td>82</td>\n",
       "      <td>Italy</td>\n",
       "      <td>ITA</td>\n",
       "      <td>5</td>\n",
       "      <td>32931.672</td>\n",
       "      <td>0.88099998</td>\n",
       "      <td>60.78300094604492</td>\n",
       "      <td>2.0</td>\n",
       "      <td>3.736852645874023</td>\n",
       "      <td>4.079850196838379</td>\n",
       "      <td>95.72698974609376</td>\n",
       "    </tr>\n",
       "    <tr>\n",
       "      <th>2</th>\n",
       "      <td>62</td>\n",
       "      <td>Georgia</td>\n",
       "      <td>GEO</td>\n",
       "      <td>1</td>\n",
       "      <td>7148.5698</td>\n",
       "      <td>0.76800001</td>\n",
       "      <td>3.7300000190734863</td>\n",
       "      <td>5.400000095367432</td>\n",
       "      <td>3.20092511177063</td>\n",
       "      <td>1.983309984207153</td>\n",
       "      <td>92.05198669433594</td>\n",
       "    </tr>\n",
       "    <tr>\n",
       "      <th>3</th>\n",
       "      <td>175</td>\n",
       "      <td>United Arab Emirates</td>\n",
       "      <td>ARE</td>\n",
       "      <td>3</td>\n",
       "      <td>20310.109</td>\n",
       "      <td>0.83600003</td>\n",
       "      <td>Nan</td>\n",
       "      <td>2.5</td>\n",
       "      <td>5.27984094619751</td>\n",
       "      <td>Nan</td>\n",
       "      <td>Nan</td>\n",
       "    </tr>\n",
       "    <tr>\n",
       "      <th>4</th>\n",
       "      <td>172</td>\n",
       "      <td>Togo</td>\n",
       "      <td>TGO</td>\n",
       "      <td>4</td>\n",
       "      <td>1036.28</td>\n",
       "      <td>0.484</td>\n",
       "      <td>6.928999900817871</td>\n",
       "      <td>7.300000190734862</td>\n",
       "      <td>Nan</td>\n",
       "      <td>4.868460178375244</td>\n",
       "      <td>Nan</td>\n",
       "    </tr>\n",
       "  </tbody>\n",
       "</table>\n",
       "</div>"
      ],
      "text/plain": [
       "   Unnamed: 0                 cname ccodealp  ht_region  gle_cgdpc  \\\n",
       "0          42            Costa Rica      CRI          2    9485.71   \n",
       "1          82                 Italy      ITA          5  32931.672   \n",
       "2          62               Georgia      GEO          1  7148.5698   \n",
       "3         175  United Arab Emirates      ARE          3  20310.109   \n",
       "4         172                  Togo      TGO          4    1036.28   \n",
       "\n",
       "     undp_hdi             imf_pop             ffp_hf            wef_qes  \\\n",
       "0  0.77499998                 Nan                3.5  4.666448593139648   \n",
       "1  0.88099998   60.78300094604492                2.0  3.736852645874023   \n",
       "2  0.76800001  3.7300000190734863  5.400000095367432   3.20092511177063   \n",
       "3  0.83600003                 Nan                2.5   5.27984094619751   \n",
       "4       0.484   6.928999900817871  7.300000190734862                Nan   \n",
       "\n",
       "           wdi_expedu           wdi_ners  \n",
       "0  6.9272398948669425  78.12113952636719  \n",
       "1   4.079850196838379  95.72698974609376  \n",
       "2   1.983309984207153  92.05198669433594  \n",
       "3                 Nan                Nan  \n",
       "4   4.868460178375244                Nan  "
      ]
     },
     "execution_count": 258,
     "metadata": {},
     "output_type": "execute_result"
    }
   ],
   "source": [
    "df = pd.read_csv('subsample_demo.csv')\n",
    "df.head()"
   ]
  },
  {
   "cell_type": "code",
   "execution_count": 259,
   "metadata": {},
   "outputs": [
    {
     "data": {
      "text/html": [
       "<div>\n",
       "<style scoped>\n",
       "    .dataframe tbody tr th:only-of-type {\n",
       "        vertical-align: middle;\n",
       "    }\n",
       "\n",
       "    .dataframe tbody tr th {\n",
       "        vertical-align: top;\n",
       "    }\n",
       "\n",
       "    .dataframe thead th {\n",
       "        text-align: right;\n",
       "    }\n",
       "</style>\n",
       "<table border=\"1\" class=\"dataframe\">\n",
       "  <thead>\n",
       "    <tr style=\"text-align: right;\">\n",
       "      <th></th>\n",
       "      <th>undp_hdi</th>\n",
       "      <th>ccodealp</th>\n",
       "      <th>ht_region</th>\n",
       "      <th>gle_cgdpc</th>\n",
       "      <th>imf_pop</th>\n",
       "    </tr>\n",
       "  </thead>\n",
       "  <tbody>\n",
       "    <tr>\n",
       "      <th>63</th>\n",
       "      <td>0.41800001</td>\n",
       "      <td>ERI</td>\n",
       "      <td>4</td>\n",
       "      <td>1007.28</td>\n",
       "      <td>Nan</td>\n",
       "    </tr>\n",
       "    <tr>\n",
       "      <th>39</th>\n",
       "      <td>0.91100001</td>\n",
       "      <td>LIE</td>\n",
       "      <td>5</td>\n",
       "      <td>102243.52</td>\n",
       "      <td>Nan</td>\n",
       "    </tr>\n",
       "    <tr>\n",
       "      <th>25</th>\n",
       "      <td>0.85299999</td>\n",
       "      <td>MLT</td>\n",
       "      <td>5</td>\n",
       "      <td>24094.641</td>\n",
       "      <td>0.42500001192092896</td>\n",
       "    </tr>\n",
       "    <tr>\n",
       "      <th>27</th>\n",
       "      <td>0.72899997</td>\n",
       "      <td>JAM</td>\n",
       "      <td>10</td>\n",
       "      <td>4668.77</td>\n",
       "      <td>2.799000024795532</td>\n",
       "    </tr>\n",
       "    <tr>\n",
       "      <th>54</th>\n",
       "      <td>0.852</td>\n",
       "      <td>POL</td>\n",
       "      <td>1</td>\n",
       "      <td>19990.939</td>\n",
       "      <td>38.01800155639648</td>\n",
       "    </tr>\n",
       "  </tbody>\n",
       "</table>\n",
       "</div>"
      ],
      "text/plain": [
       "      undp_hdi ccodealp  ht_region  gle_cgdpc              imf_pop\n",
       "63  0.41800001      ERI          4    1007.28                  Nan\n",
       "39  0.91100001      LIE          5  102243.52                  Nan\n",
       "25  0.85299999      MLT          5  24094.641  0.42500001192092896\n",
       "27  0.72899997      JAM         10    4668.77    2.799000024795532\n",
       "54       0.852      POL          1  19990.939    38.01800155639648"
      ]
     },
     "execution_count": 259,
     "metadata": {},
     "output_type": "execute_result"
    }
   ],
   "source": [
    "np.random.seed(8914) # 1895'8914'-k\n",
    "base = df[['undp_hdi','ccodealp','ht_region','gle_cgdpc','imf_pop']].sample(frac=0.5)\n",
    "base.head()"
   ]
  },
  {
   "cell_type": "markdown",
   "metadata": {},
   "source": [
    "Si su apellido está entre la N y la Z, escoja las siguientes variables del módulo Salud:"
   ]
  },
  {
   "cell_type": "markdown",
   "metadata": {},
   "source": [
    "    wef_imort : Infant mortality, deaths/1000 live births\n",
    "    who_alc2000 : Alcohol consumption per capita (2000-)\n",
    "    who_tobt : Current smoking of any tobacco product (Total).\n",
    "    wdi_exph : Government expenditure on health, total (% of GDP)\n",
    "    Guarde esta tabla procesada en un nuevo objeto\n",
    "    Renombre las categorías de la variable ht_region de números a regiones"
   ]
  },
  {
   "cell_type": "code",
   "execution_count": 323,
   "metadata": {},
   "outputs": [],
   "source": [
    "dfs =pd.read_csv('qog_std_cs_jan18.csv').sample(frac=0.5)"
   ]
  },
  {
   "cell_type": "code",
   "execution_count": 324,
   "metadata": {},
   "outputs": [
    {
     "data": {
      "text/html": [
       "<div>\n",
       "<style scoped>\n",
       "    .dataframe tbody tr th:only-of-type {\n",
       "        vertical-align: middle;\n",
       "    }\n",
       "\n",
       "    .dataframe tbody tr th {\n",
       "        vertical-align: top;\n",
       "    }\n",
       "\n",
       "    .dataframe thead th {\n",
       "        text-align: right;\n",
       "    }\n",
       "</style>\n",
       "<table border=\"1\" class=\"dataframe\">\n",
       "  <thead>\n",
       "    <tr style=\"text-align: right;\">\n",
       "      <th></th>\n",
       "      <th>wef_imort</th>\n",
       "      <th>who_alc2000</th>\n",
       "      <th>who_tobt</th>\n",
       "      <th>wdi_exph</th>\n",
       "    </tr>\n",
       "  </thead>\n",
       "  <tbody>\n",
       "    <tr>\n",
       "      <th>90</th>\n",
       "      <td>3.300000</td>\n",
       "      <td>9.33</td>\n",
       "      <td>27.400000</td>\n",
       "      <td>7.373113</td>\n",
       "    </tr>\n",
       "    <tr>\n",
       "      <th>93</th>\n",
       "      <td>54.000000</td>\n",
       "      <td>5.39</td>\n",
       "      <td>34.000000</td>\n",
       "      <td>1.865546</td>\n",
       "    </tr>\n",
       "    <tr>\n",
       "      <th>59</th>\n",
       "      <td>3.400000</td>\n",
       "      <td>11.50</td>\n",
       "      <td>28.100000</td>\n",
       "      <td>11.539519</td>\n",
       "    </tr>\n",
       "    <tr>\n",
       "      <th>97</th>\n",
       "      <td>53.599998</td>\n",
       "      <td>3.72</td>\n",
       "      <td>14.200000</td>\n",
       "      <td>10.036333</td>\n",
       "    </tr>\n",
       "    <tr>\n",
       "      <th>87</th>\n",
       "      <td>16.400000</td>\n",
       "      <td>0.41</td>\n",
       "      <td>38.400002</td>\n",
       "      <td>7.452996</td>\n",
       "    </tr>\n",
       "  </tbody>\n",
       "</table>\n",
       "</div>"
      ],
      "text/plain": [
       "    wef_imort  who_alc2000   who_tobt   wdi_exph\n",
       "90   3.300000         9.33  27.400000   7.373113\n",
       "93  54.000000         5.39  34.000000   1.865546\n",
       "59   3.400000        11.50  28.100000  11.539519\n",
       "97  53.599998         3.72  14.200000  10.036333\n",
       "87  16.400000         0.41  38.400002   7.452996"
      ]
     },
     "execution_count": 324,
     "metadata": {},
     "output_type": "execute_result"
    }
   ],
   "source": [
    "df2 = dfs[['wef_imort','who_alc2000','who_tobt','wdi_exph']]\n",
    "df2.head()"
   ]
  },
  {
   "cell_type": "code",
   "execution_count": 262,
   "metadata": {},
   "outputs": [],
   "source": [
    "numeros = base['ht_region'].unique()\n",
    "numeros.sort()\n",
    "regiones = ['tarapaca','antofagasta','atacama','Coquimbo','Valparaíso','Maule','Concepción','Araucanía','Los Lagos']\n",
    "base = base.replace(numeros,regiones)"
   ]
  },
  {
   "cell_type": "markdown",
   "metadata": {},
   "source": [
    "#### Genere una función que liste las observaciones perdidas de una variable"
   ]
  },
  {
   "cell_type": "markdown",
   "metadata": {},
   "source": [
    "La función debe contener los siguientes argumentos:\n",
    "\n",
    "    dataframe : La función debe ingresar un objeto DataFrame.\n",
    "    var : Variable a inspeccionar.\n",
    "    print_list : Opción para imprimir la lista de observaciones perdidas en la variable.Debe ser False por defecto.\n",
    "La función debe retornar la cantidad de casos perdidos y el porcentaje correspondiente.\n",
    "Cuando print_list = True , debe retornar la lista de casos.\n",
    "Analice todas las variables y sus casos perdidos.\n",
    "Para las 3 variables con un mayor porcentaje de casos perdidos, solicite la lista de países con\n",
    "ausencia de datos."
   ]
  },
  {
   "cell_type": "code",
   "execution_count": 310,
   "metadata": {},
   "outputs": [],
   "source": [
    "def count_nan(df,var,print_list=False):\n",
    "    serie = df[var]\n",
    "    cantidad = 0\n",
    "    for i in serie:\n",
    "        if i == 'Nan':\n",
    "            cantidad += 1\n",
    "        elif type(i) == np.float:\n",
    "            if np.isnan(i):\n",
    "                cantidad +=1\n",
    "    porcentaje = cantidad/len(serie)\n",
    "    if (print_list):\n",
    "        index_registro = []\n",
    "        for i,j in serie.items():\n",
    "            if type(j) == np.float or j == 'Nan':\n",
    "                if j == 'Nan':\n",
    "                    index_registro.append(i)\n",
    "                elif np.isnan(j):\n",
    "                    index_registro.append(i)\n",
    "        return cantidad,porcentaje,index_registro\n",
    "    return cantidad,porcentaje"
   ]
  },
  {
   "cell_type": "code",
   "execution_count": 311,
   "metadata": {},
   "outputs": [
    {
     "data": {
      "text/plain": [
       "(3, 0.0625, [64, 37, 16])"
      ]
     },
     "execution_count": 311,
     "metadata": {},
     "output_type": "execute_result"
    }
   ],
   "source": [
    "count_nan(base,'undp_hdi',True)"
   ]
  },
  {
   "cell_type": "code",
   "execution_count": 320,
   "metadata": {},
   "outputs": [
    {
     "data": {
      "text/plain": [
       "63                     Nan\n",
       "39                     Nan\n",
       "25     0.42500001192092896\n",
       "27       2.799000024795532\n",
       "54       38.01800155639648\n",
       "67                     Nan\n",
       "41       2.045000076293945\n",
       "35       77.69599914550781\n",
       "60                     Nan\n",
       "92       30.70899963378906\n",
       "4        6.928999900817871\n",
       "51                     Nan\n",
       "66       8.140000343322754\n",
       "64                     Nan\n",
       "29       40.70000076293945\n",
       "90        3.36899995803833\n",
       "59       19.95299911499023\n",
       "40                     Nan\n",
       "15       30.80900001525879\n",
       "7        9.342000007629396\n",
       "75       9.468000411987305\n",
       "9        17.42200088500977\n",
       "50       0.765999972820282\n",
       "5        6.880000114440918\n",
       "45       100.1490020751953\n",
       "62       0.335999995470047\n",
       "65      0.7760000228881836\n",
       "17                     Nan\n",
       "91       8.543999671936035\n",
       "96      0.1669999957084656\n",
       "77                     Nan\n",
       "81       89.69100189208984\n",
       "46        6.23199987411499\n",
       "6        68.65699768066406\n",
       "3                      Nan\n",
       "18       1.105999946594238\n",
       "2       3.7300000190734863\n",
       "28                     Nan\n",
       "10       16.86499977111816\n",
       "24       4.554999828338623\n",
       "85       10.51200008392334\n",
       "44      186.19000244140634\n",
       "89       202.7689971923828\n",
       "37      0.0540000014007092\n",
       "76       1.261000037193298\n",
       "8        64.59700012207031\n",
       "23                     Nan\n",
       "16    0.034000001847743995\n",
       "Name: imf_pop, dtype: object"
      ]
     },
     "execution_count": 320,
     "metadata": {},
     "output_type": "execute_result"
    }
   ],
   "source": [
    "base['imf_pop']"
   ]
  },
  {
   "cell_type": "code",
   "execution_count": 316,
   "metadata": {},
   "outputs": [
    {
     "data": {
      "text/html": [
       "<div>\n",
       "<style scoped>\n",
       "    .dataframe tbody tr th:only-of-type {\n",
       "        vertical-align: middle;\n",
       "    }\n",
       "\n",
       "    .dataframe tbody tr th {\n",
       "        vertical-align: top;\n",
       "    }\n",
       "\n",
       "    .dataframe thead th {\n",
       "        text-align: right;\n",
       "    }\n",
       "</style>\n",
       "<table border=\"1\" class=\"dataframe\">\n",
       "  <thead>\n",
       "    <tr style=\"text-align: right;\">\n",
       "      <th></th>\n",
       "      <th>undp_hdi</th>\n",
       "      <th>ccodealp</th>\n",
       "      <th>ht_region</th>\n",
       "      <th>gle_cgdpc</th>\n",
       "      <th>imf_pop</th>\n",
       "    </tr>\n",
       "  </thead>\n",
       "  <tbody>\n",
       "    <tr>\n",
       "      <th>cantidad Nan</th>\n",
       "      <td>3.0000</td>\n",
       "      <td>0.0</td>\n",
       "      <td>0.0</td>\n",
       "      <td>0.0</td>\n",
       "      <td>12.00</td>\n",
       "    </tr>\n",
       "    <tr>\n",
       "      <th>porcentaje Nan</th>\n",
       "      <td>0.0625</td>\n",
       "      <td>0.0</td>\n",
       "      <td>0.0</td>\n",
       "      <td>0.0</td>\n",
       "      <td>0.25</td>\n",
       "    </tr>\n",
       "  </tbody>\n",
       "</table>\n",
       "</div>"
      ],
      "text/plain": [
       "                undp_hdi  ccodealp  ht_region  gle_cgdpc  imf_pop\n",
       "cantidad Nan      3.0000       0.0        0.0        0.0    12.00\n",
       "porcentaje Nan    0.0625       0.0        0.0        0.0     0.25"
      ]
     },
     "execution_count": 316,
     "metadata": {},
     "output_type": "execute_result"
    }
   ],
   "source": [
    "columnas = base.columns\n",
    "fu = lambda x: count_nan(df= base,var =x)\n",
    "analisis = {columnas[i]:list(map(fu,columnas))[i] for i in range(len(columnas))}\n",
    "analisis = pd.DataFrame.from_dict(analisis)\n",
    "analisis.rename(index={0:'cantidad Nan',1:'porcentaje Nan'})"
   ]
  },
  {
   "cell_type": "code",
   "execution_count": 317,
   "metadata": {},
   "outputs": [
    {
     "data": {
      "text/html": [
       "<div>\n",
       "<style scoped>\n",
       "    .dataframe tbody tr th:only-of-type {\n",
       "        vertical-align: middle;\n",
       "    }\n",
       "\n",
       "    .dataframe tbody tr th {\n",
       "        vertical-align: top;\n",
       "    }\n",
       "\n",
       "    .dataframe thead th {\n",
       "        text-align: right;\n",
       "    }\n",
       "</style>\n",
       "<table border=\"1\" class=\"dataframe\">\n",
       "  <thead>\n",
       "    <tr style=\"text-align: right;\">\n",
       "      <th></th>\n",
       "      <th>wef_imort</th>\n",
       "      <th>who_alc2000</th>\n",
       "      <th>who_tobt</th>\n",
       "      <th>wdi_exph</th>\n",
       "    </tr>\n",
       "  </thead>\n",
       "  <tbody>\n",
       "    <tr>\n",
       "      <th>cantidad Nan</th>\n",
       "      <td>28.00000</td>\n",
       "      <td>8.000000</td>\n",
       "      <td>32.000000</td>\n",
       "      <td>2.000000</td>\n",
       "    </tr>\n",
       "    <tr>\n",
       "      <th>porcentaje Nan</th>\n",
       "      <td>0.28866</td>\n",
       "      <td>0.082474</td>\n",
       "      <td>0.329897</td>\n",
       "      <td>0.020619</td>\n",
       "    </tr>\n",
       "  </tbody>\n",
       "</table>\n",
       "</div>"
      ],
      "text/plain": [
       "                wef_imort  who_alc2000   who_tobt  wdi_exph\n",
       "cantidad Nan     28.00000     8.000000  32.000000  2.000000\n",
       "porcentaje Nan    0.28866     0.082474   0.329897  0.020619"
      ]
     },
     "execution_count": 317,
     "metadata": {},
     "output_type": "execute_result"
    }
   ],
   "source": [
    "columnas = df2.columns\n",
    "fu = lambda x: count_nan(df= df2,var =x)\n",
    "analisis = {columnas[i]:list(map(fu,columnas))[i] for i in range(len(columnas))}\n",
    "analisis = pd.DataFrame.from_dict(analisis)\n",
    "analisis.rename(index={0:'cantidad Nan',1:'porcentaje Nan'})"
   ]
  },
  {
   "cell_type": "markdown",
   "metadata": {},
   "source": [
    "Para las 3 variables con un mayor porcentaje de casos perdidos, solicite la lista de países con\n",
    "ausencia de datos."
   ]
  },
  {
   "cell_type": "code",
   "execution_count": 325,
   "metadata": {},
   "outputs": [
    {
     "name": "stdout",
     "output_type": "stream",
     "text": [
      "[128 178  53 145 119  57 173   3  60 148 125 147  22 172  89  55   0 163\n",
      " 149 130]\n"
     ]
    }
   ],
   "source": [
    "mayores =  ['wef_imort','wef_imort','wef_imort']\n",
    "fu = lambda x: count_nan(df=df2,var =x,print_list=True)\n",
    "res =list(map(fu,mayores))\n",
    "if res[0][2] == res[2][2] == res[1][2]:\n",
    "    res =np.array(list(map(fu,mayores))[0][2])\n",
    "print(res)"
   ]
  },
  {
   "cell_type": "markdown",
   "metadata": {},
   "source": [
    "### Grafique los histogramas"
   ]
  },
  {
   "cell_type": "code",
   "execution_count": 244,
   "metadata": {},
   "outputs": [],
   "source": [
    "import matplotlib.pyplot as plt\n",
    "\n",
    "variables = ['wef_imort','who_alc2000','who_tobt','wdi_exph']\n",
    "\n",
    "def histograma(df,var,true_mean=False,sample_mean=False):\n",
    "    \n",
    "    plt.hist(df[var])\n",
    "    bottom, top = plt.ylim()  # return the current ylim\n",
    "    plt.ylim((bottom, top))   # set the ylim to bottom, top\n",
    "    plt.ylim(bottom, top)\n",
    "    if sample_mean:\n",
    "        plt.axvline(df2[var].mean(), color='k', linestyle='dashed', linewidth=1)\n",
    "        plt.text(df2[var].mean() + df2[var].mean()/10, top-top/10, 'Mean: {:.2f}'.format(df2[var].mean()))\n",
    "    if true_mean:\n",
    "        plt.axvline(np.mean(np.mean(df2)), color='r', linestyle='dashed', linewidth=1)\n",
    "        plt.text(np.mean(np.mean(df2)) + np.mean(np.mean(df2))/10, top-top/10, 'True Mean: {:.2f}'.format(np.mean(np.mean(df2))))\n",
    "    plt.show"
   ]
  },
  {
   "cell_type": "code",
   "execution_count": 245,
   "metadata": {},
   "outputs": [
    {
     "data": {
      "image/png": "[encoded data removed]",
      "text/plain": [
       "<Figure size 432x288 with 1 Axes>"
      ]
     },
     "metadata": {
      "needs_background": "light"
     },
     "output_type": "display_data"
    }
   ],
   "source": [
    "histograma(df2,'wef_imort',true_mean=True,sample_mean=True)"
   ]
  },
  {
   "cell_type": "code",
   "execution_count": 246,
   "metadata": {},
   "outputs": [
    {
     "data": {
      "image/png": "[encoded data removed]",
      "text/plain": [
       "<Figure size 432x288 with 1 Axes>"
      ]
     },
     "metadata": {
      "needs_background": "light"
     },
     "output_type": "display_data"
    }
   ],
   "source": [
    "histograma(df2,'who_alc2000',true_mean=True,sample_mean=True)"
   ]
  },
  {
   "cell_type": "code",
   "execution_count": 247,
   "metadata": {},
   "outputs": [
    {
     "data": {
      "image/png": "[encoded data removed]",
      "text/plain": [
       "<Figure size 432x288 with 1 Axes>"
      ]
     },
     "metadata": {
      "needs_background": "light"
     },
     "output_type": "display_data"
    }
   ],
   "source": [
    "histograma(df2,'who_tobt',true_mean=True,sample_mean=True)"
   ]
  },
  {
   "cell_type": "code",
   "execution_count": 248,
   "metadata": {},
   "outputs": [
    {
     "data": {
      "image/png": "[encoded data removed]",
      "text/plain": [
       "<Figure size 432x288 with 1 Axes>"
      ]
     },
     "metadata": {
      "needs_background": "light"
     },
     "output_type": "display_data"
    }
   ],
   "source": [
    "histograma(df2,'wdi_exph',true_mean=True,sample_mean=True)"
   ]
  },
  {
   "cell_type": "markdown",
   "metadata": {},
   "source": [
    "¿En qué variables la media de la submuestra es mayor a la de la muestra completa?\n",
    "\n",
    "    En las variables who_tobt y wef_imort"
   ]
  },
  {
   "cell_type": "code",
   "execution_count": null,
   "metadata": {},
   "outputs": [],
   "source": []
  }
 ],
 "metadata": {
  "kernelspec": {
   "display_name": "Python 3",
   "language": "python",
   "name": "python3"
  },
  "language_info": {
   "codemirror_mode": {
    "name": "ipython",
    "version": 3
   },
   "file_extension": ".py",
   "mimetype": "text/x-python",
   "name": "python",
   "nbconvert_exporter": "python",
   "pygments_lexer": "ipython3",
   "version": "3.6.8"
  }
 },
 "nbformat": 4,
 "nbformat_minor": 2
}
