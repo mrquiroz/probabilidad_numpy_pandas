{
 "cells": [
  {
   "cell_type": "markdown",
   "metadata": {},
   "source": [
    "### Moises Quiroz Diaz\n",
    "##### Generación de funciones"
   ]
  },
  {
   "cell_type": "code",
   "execution_count": 1,
   "metadata": {},
   "outputs": [],
   "source": [
    "import numpy as np\n",
    "import pandas as pd"
   ]
  },
  {
   "cell_type": "markdown",
   "metadata": {},
   "source": [
    "Genere funciones para calcular la media y varianza de un vector. Debe cumplir con los siguientes requistos:\n",
    "\n",
    "    Ambas funciones deben ingresar un argumento x .\n",
    "    Las funciones deben contener docstrings con la documentación asociada a la variable.\n",
    "    Deben retornar el resultado (tip: utilice return ).\n",
    "    La función de la varianza debe llamar a la función de la media.\n",
    "Utilice las funciones para reportar la información sobre goles_favor , goles_contra ,\n",
    "puntos ."
   ]
  },
  {
   "cell_type": "code",
   "execution_count": 2,
   "metadata": {},
   "outputs": [],
   "source": [
    "def media(x):\n",
    "    \"\"\"La variable es un vector y esta funcion retorna su media\"\"\"\n",
    "    largo = len(x)\n",
    "    s = 0\n",
    "    for i in x:\n",
    "        s+=i\n",
    "    return s/largo\n",
    "def varianza(x):\n",
    "    \"\"\"La variable es un vector y esta funcion retorna su varianza\"\"\"\n",
    "    med = media(x)\n",
    "    s = 0\n",
    "    for i in x:\n",
    "        s += (i-med)**2\n",
    "    return s/(len(x))"
   ]
  },
  {
   "cell_type": "code",
   "execution_count": 3,
   "metadata": {},
   "outputs": [
    {
     "data": {
      "text/html": [
       "<div>\n",
       "<style scoped>\n",
       "    .dataframe tbody tr th:only-of-type {\n",
       "        vertical-align: middle;\n",
       "    }\n",
       "\n",
       "    .dataframe tbody tr th {\n",
       "        vertical-align: top;\n",
       "    }\n",
       "\n",
       "    .dataframe thead th {\n",
       "        text-align: right;\n",
       "    }\n",
       "</style>\n",
       "<table border=\"1\" class=\"dataframe\">\n",
       "  <thead>\n",
       "    <tr style=\"text-align: right;\">\n",
       "      <th></th>\n",
       "      <th>team</th>\n",
       "      <th>continent</th>\n",
       "      <th>group</th>\n",
       "      <th>group_pos</th>\n",
       "      <th>cantidad_juegos</th>\n",
       "      <th>juegos_ganados</th>\n",
       "      <th>juegos_empatados</th>\n",
       "      <th>juegos_perdidos</th>\n",
       "      <th>goles_favor</th>\n",
       "      <th>goles_contra</th>\n",
       "      <th>goles_diferencia</th>\n",
       "      <th>puntos</th>\n",
       "      <th>clasificado</th>\n",
       "    </tr>\n",
       "  </thead>\n",
       "  <tbody>\n",
       "    <tr>\n",
       "      <th>0</th>\n",
       "      <td>Brazil</td>\n",
       "      <td>southamerica</td>\n",
       "      <td>A</td>\n",
       "      <td>1</td>\n",
       "      <td>3</td>\n",
       "      <td>2</td>\n",
       "      <td>1</td>\n",
       "      <td>0</td>\n",
       "      <td>7</td>\n",
       "      <td>2</td>\n",
       "      <td>5</td>\n",
       "      <td>7</td>\n",
       "      <td>1</td>\n",
       "    </tr>\n",
       "    <tr>\n",
       "      <th>1</th>\n",
       "      <td>Mexico</td>\n",
       "      <td>northamerica</td>\n",
       "      <td>A</td>\n",
       "      <td>2</td>\n",
       "      <td>3</td>\n",
       "      <td>2</td>\n",
       "      <td>1</td>\n",
       "      <td>0</td>\n",
       "      <td>4</td>\n",
       "      <td>1</td>\n",
       "      <td>3</td>\n",
       "      <td>7</td>\n",
       "      <td>1</td>\n",
       "    </tr>\n",
       "    <tr>\n",
       "      <th>2</th>\n",
       "      <td>Croatia</td>\n",
       "      <td>europe</td>\n",
       "      <td>A</td>\n",
       "      <td>3</td>\n",
       "      <td>3</td>\n",
       "      <td>1</td>\n",
       "      <td>0</td>\n",
       "      <td>2</td>\n",
       "      <td>6</td>\n",
       "      <td>6</td>\n",
       "      <td>0</td>\n",
       "      <td>3</td>\n",
       "      <td>0</td>\n",
       "    </tr>\n",
       "    <tr>\n",
       "      <th>3</th>\n",
       "      <td>Cameroon</td>\n",
       "      <td>africa</td>\n",
       "      <td>A</td>\n",
       "      <td>4</td>\n",
       "      <td>3</td>\n",
       "      <td>0</td>\n",
       "      <td>0</td>\n",
       "      <td>3</td>\n",
       "      <td>1</td>\n",
       "      <td>9</td>\n",
       "      <td>−8</td>\n",
       "      <td>0</td>\n",
       "      <td>0</td>\n",
       "    </tr>\n",
       "    <tr>\n",
       "      <th>4</th>\n",
       "      <td>Netherlands</td>\n",
       "      <td>europe</td>\n",
       "      <td>B</td>\n",
       "      <td>1</td>\n",
       "      <td>3</td>\n",
       "      <td>3</td>\n",
       "      <td>0</td>\n",
       "      <td>0</td>\n",
       "      <td>10</td>\n",
       "      <td>3</td>\n",
       "      <td>7</td>\n",
       "      <td>9</td>\n",
       "      <td>1</td>\n",
       "    </tr>\n",
       "  </tbody>\n",
       "</table>\n",
       "</div>"
      ],
      "text/plain": [
       "          team     continent group  group_pos  cantidad_juegos  \\\n",
       "0       Brazil  southamerica     A          1                3   \n",
       "1       Mexico  northamerica     A          2                3   \n",
       "2      Croatia        europe     A          3                3   \n",
       "3     Cameroon        africa     A          4                3   \n",
       "4  Netherlands        europe     B          1                3   \n",
       "\n",
       "   juegos_ganados  juegos_empatados  juegos_perdidos  goles_favor  \\\n",
       "0               2                 1                0            7   \n",
       "1               2                 1                0            4   \n",
       "2               1                 0                2            6   \n",
       "3               0                 0                3            1   \n",
       "4               3                 0                0           10   \n",
       "\n",
       "   goles_contra goles_diferencia  puntos  clasificado  \n",
       "0             2                5       7            1  \n",
       "1             1                3       7            1  \n",
       "2             6                0       3            0  \n",
       "3             9               −8       0            0  \n",
       "4             3                7       9            1  "
      ]
     },
     "execution_count": 3,
     "metadata": {},
     "output_type": "execute_result"
    }
   ],
   "source": [
    "df = pd.read_csv('worldcup2014.csv')\n",
    "europe_df = df[df['continent'] == 'europe']\n",
    "southamerica_df = df[df['continent'] == 'southamerica']\n",
    "africa_df = df[df['continent'] == 'africa']\n",
    "asia_df = df[df['continent'] == 'asia']\n",
    "northamerica_df = df[df['continent'] == 'northamerica']\n",
    "df.head()"
   ]
  },
  {
   "cell_type": "code",
   "execution_count": 4,
   "metadata": {},
   "outputs": [
    {
     "name": "stdout",
     "output_type": "stream",
     "text": [
      "La media de goles_favor: 4.25\n",
      "La media de goles_contra: 4.25\n",
      "La media de puntos 4.21875\n"
     ]
    }
   ],
   "source": [
    "print('La media de goles_favor:',media(df['goles_favor']))\n",
    "print('La media de goles_contra:',media(df['goles_contra']))\n",
    "print('La media de puntos',media(df['puntos']))"
   ]
  },
  {
   "cell_type": "code",
   "execution_count": 5,
   "metadata": {},
   "outputs": [
    {
     "name": "stdout",
     "output_type": "stream",
     "text": [
      "La varianza de goles_favor: 5.1875\n",
      "La varianza de goles_favor: 4.8125\n",
      "La varianza de goles_favor: 8.0458984375\n"
     ]
    }
   ],
   "source": [
    "print('La varianza de goles_favor:',varianza(df['goles_favor']))\n",
    "print('La varianza de goles_favor:',varianza(df['goles_contra']))\n",
    "print('La varianza de goles_favor:',varianza(df['puntos']))"
   ]
  },
  {
   "cell_type": "markdown",
   "metadata": {},
   "source": [
    "### Desafío 2:\n",
    "\n",
    "    En base a la información disponible, genere una función con los argumentos group_by y var\n",
    "    para ingresar una lista de submuestras y una variable a analizar, respectivamente.\n",
    "    La función debe retornar un DataFrame .\n",
    "    Implemente la función para extraer la información sobre la cantidad de goles a favor, en contra y\n",
    "    la cantidad de puntos.\n",
    "    Reporte en qué continente se encuentra la mayor cantidad de goles a favor, en contra y cantidad\n",
    "    de puntos."
   ]
  },
  {
   "cell_type": "code",
   "execution_count": 6,
   "metadata": {},
   "outputs": [],
   "source": [
    "def desafio2(group_by,var):\n",
    "    continent = []\n",
    "    store_mean = []\n",
    "    store_std = []\n",
    "    cantidad = []\n",
    "    for d in group_by:\n",
    "        continent.append(d.iloc[0,1])\n",
    "        store_mean.append(media(d[var]))\n",
    "        store_std.append(varianza(d[var]))\n",
    "        cantidad.append(np.sum(d[var]))\n",
    "    tmp = pd.DataFrame({'continente': continent,'media '+var: store_mean,'std '+var: store_std,'cantidad '+var:cantidad})\n",
    "    return tmp"
   ]
  },
  {
   "cell_type": "code",
   "execution_count": 7,
   "metadata": {},
   "outputs": [],
   "source": [
    "lista_continentes=[southamerica_df,northamerica_df,africa_df,europe_df,asia_df]"
   ]
  },
  {
   "cell_type": "code",
   "execution_count": 8,
   "metadata": {},
   "outputs": [
    {
     "data": {
      "text/html": [
       "<div>\n",
       "<style scoped>\n",
       "    .dataframe tbody tr th:only-of-type {\n",
       "        vertical-align: middle;\n",
       "    }\n",
       "\n",
       "    .dataframe tbody tr th {\n",
       "        vertical-align: top;\n",
       "    }\n",
       "\n",
       "    .dataframe thead th {\n",
       "        text-align: right;\n",
       "    }\n",
       "</style>\n",
       "<table border=\"1\" class=\"dataframe\">\n",
       "  <thead>\n",
       "    <tr style=\"text-align: right;\">\n",
       "      <th></th>\n",
       "      <th>continente</th>\n",
       "      <th>media puntos</th>\n",
       "      <th>std puntos</th>\n",
       "      <th>cantidad puntos</th>\n",
       "    </tr>\n",
       "  </thead>\n",
       "  <tbody>\n",
       "    <tr>\n",
       "      <th>0</th>\n",
       "      <td>southamerica</td>\n",
       "      <td>6.833333</td>\n",
       "      <td>3.138889</td>\n",
       "      <td>41</td>\n",
       "    </tr>\n",
       "    <tr>\n",
       "      <th>1</th>\n",
       "      <td>northamerica</td>\n",
       "      <td>4.500000</td>\n",
       "      <td>8.250000</td>\n",
       "      <td>18</td>\n",
       "    </tr>\n",
       "    <tr>\n",
       "      <th>2</th>\n",
       "      <td>africa</td>\n",
       "      <td>2.400000</td>\n",
       "      <td>2.640000</td>\n",
       "      <td>12</td>\n",
       "    </tr>\n",
       "    <tr>\n",
       "      <th>3</th>\n",
       "      <td>europe</td>\n",
       "      <td>4.692308</td>\n",
       "      <td>6.366864</td>\n",
       "      <td>61</td>\n",
       "    </tr>\n",
       "    <tr>\n",
       "      <th>4</th>\n",
       "      <td>asia</td>\n",
       "      <td>0.750000</td>\n",
       "      <td>0.187500</td>\n",
       "      <td>3</td>\n",
       "    </tr>\n",
       "  </tbody>\n",
       "</table>\n",
       "</div>"
      ],
      "text/plain": [
       "     continente  media puntos  std puntos  cantidad puntos\n",
       "0  southamerica      6.833333    3.138889               41\n",
       "1  northamerica      4.500000    8.250000               18\n",
       "2        africa      2.400000    2.640000               12\n",
       "3        europe      4.692308    6.366864               61\n",
       "4          asia      0.750000    0.187500                3"
      ]
     },
     "execution_count": 8,
     "metadata": {},
     "output_type": "execute_result"
    }
   ],
   "source": [
    "desafio2(lista_continentes,'puntos')"
   ]
  },
  {
   "cell_type": "code",
   "execution_count": 9,
   "metadata": {},
   "outputs": [
    {
     "data": {
      "text/html": [
       "<div>\n",
       "<style scoped>\n",
       "    .dataframe tbody tr th:only-of-type {\n",
       "        vertical-align: middle;\n",
       "    }\n",
       "\n",
       "    .dataframe tbody tr th {\n",
       "        vertical-align: top;\n",
       "    }\n",
       "\n",
       "    .dataframe thead th {\n",
       "        text-align: right;\n",
       "    }\n",
       "</style>\n",
       "<table border=\"1\" class=\"dataframe\">\n",
       "  <thead>\n",
       "    <tr style=\"text-align: right;\">\n",
       "      <th></th>\n",
       "      <th>continente</th>\n",
       "      <th>media goles_favor</th>\n",
       "      <th>std goles_favor</th>\n",
       "      <th>cantidad goles_favor</th>\n",
       "    </tr>\n",
       "  </thead>\n",
       "  <tbody>\n",
       "    <tr>\n",
       "      <th>0</th>\n",
       "      <td>southamerica</td>\n",
       "      <td>5.666667</td>\n",
       "      <td>3.888889</td>\n",
       "      <td>34</td>\n",
       "    </tr>\n",
       "    <tr>\n",
       "      <th>1</th>\n",
       "      <td>northamerica</td>\n",
       "      <td>3.250000</td>\n",
       "      <td>1.687500</td>\n",
       "      <td>13</td>\n",
       "    </tr>\n",
       "    <tr>\n",
       "      <th>2</th>\n",
       "      <td>africa</td>\n",
       "      <td>3.600000</td>\n",
       "      <td>2.640000</td>\n",
       "      <td>18</td>\n",
       "    </tr>\n",
       "    <tr>\n",
       "      <th>3</th>\n",
       "      <td>europe</td>\n",
       "      <td>4.769231</td>\n",
       "      <td>6.331361</td>\n",
       "      <td>62</td>\n",
       "    </tr>\n",
       "    <tr>\n",
       "      <th>4</th>\n",
       "      <td>asia</td>\n",
       "      <td>2.250000</td>\n",
       "      <td>0.687500</td>\n",
       "      <td>9</td>\n",
       "    </tr>\n",
       "  </tbody>\n",
       "</table>\n",
       "</div>"
      ],
      "text/plain": [
       "     continente  media goles_favor  std goles_favor  cantidad goles_favor\n",
       "0  southamerica           5.666667         3.888889                    34\n",
       "1  northamerica           3.250000         1.687500                    13\n",
       "2        africa           3.600000         2.640000                    18\n",
       "3        europe           4.769231         6.331361                    62\n",
       "4          asia           2.250000         0.687500                     9"
      ]
     },
     "execution_count": 9,
     "metadata": {},
     "output_type": "execute_result"
    }
   ],
   "source": [
    "desafio2(lista_continentes,'goles_favor')"
   ]
  },
  {
   "cell_type": "code",
   "execution_count": 10,
   "metadata": {},
   "outputs": [
    {
     "data": {
      "text/html": [
       "<div>\n",
       "<style scoped>\n",
       "    .dataframe tbody tr th:only-of-type {\n",
       "        vertical-align: middle;\n",
       "    }\n",
       "\n",
       "    .dataframe tbody tr th {\n",
       "        vertical-align: top;\n",
       "    }\n",
       "\n",
       "    .dataframe thead th {\n",
       "        text-align: right;\n",
       "    }\n",
       "</style>\n",
       "<table border=\"1\" class=\"dataframe\">\n",
       "  <thead>\n",
       "    <tr style=\"text-align: right;\">\n",
       "      <th></th>\n",
       "      <th>continente</th>\n",
       "      <th>media goles_contra</th>\n",
       "      <th>std goles_contra</th>\n",
       "      <th>cantidad goles_contra</th>\n",
       "    </tr>\n",
       "  </thead>\n",
       "  <tbody>\n",
       "    <tr>\n",
       "      <th>0</th>\n",
       "      <td>southamerica</td>\n",
       "      <td>2.833333</td>\n",
       "      <td>0.472222</td>\n",
       "      <td>17</td>\n",
       "    </tr>\n",
       "    <tr>\n",
       "      <th>1</th>\n",
       "      <td>northamerica</td>\n",
       "      <td>3.500000</td>\n",
       "      <td>8.250000</td>\n",
       "      <td>14</td>\n",
       "    </tr>\n",
       "    <tr>\n",
       "      <th>2</th>\n",
       "      <td>africa</td>\n",
       "      <td>5.600000</td>\n",
       "      <td>3.840000</td>\n",
       "      <td>28</td>\n",
       "    </tr>\n",
       "    <tr>\n",
       "      <th>3</th>\n",
       "      <td>europe</td>\n",
       "      <td>4.000000</td>\n",
       "      <td>3.538462</td>\n",
       "      <td>52</td>\n",
       "    </tr>\n",
       "    <tr>\n",
       "      <th>4</th>\n",
       "      <td>asia</td>\n",
       "      <td>6.250000</td>\n",
       "      <td>3.187500</td>\n",
       "      <td>25</td>\n",
       "    </tr>\n",
       "  </tbody>\n",
       "</table>\n",
       "</div>"
      ],
      "text/plain": [
       "     continente  media goles_contra  std goles_contra  cantidad goles_contra\n",
       "0  southamerica            2.833333          0.472222                     17\n",
       "1  northamerica            3.500000          8.250000                     14\n",
       "2        africa            5.600000          3.840000                     28\n",
       "3        europe            4.000000          3.538462                     52\n",
       "4          asia            6.250000          3.187500                     25"
      ]
     },
     "execution_count": 10,
     "metadata": {},
     "output_type": "execute_result"
    }
   ],
   "source": [
    "desafio2(lista_continentes,'goles_contra')"
   ]
  },
  {
   "cell_type": "markdown",
   "metadata": {},
   "source": [
    "En ambos DataFrame fue europa el que tuvo mayor cantidad"
   ]
  },
  {
   "cell_type": "markdown",
   "metadata": {},
   "source": [
    "### Desafio 3\n",
    "\n",
    "    Genere una función generate_pet que devuelva de forma aleatoria un string 'perro' o\n",
    "    'gato' . Ejecútela un par de veces.\n",
    "    tip: Puede utilizar la función np.random.choice para retornar elementos al azar.\n",
    "    Aplique la función generate_pet 20 veces mediante un loop y guarde los resultados en una\n",
    "    lista.\n",
    "    tip: Puede generar una lista vacía con [ ] y asignarla a un objeto. Puede añadir\n",
    "    elementos a la lista con .append .\n",
    "    ¿Cuál es la probabilidad de elegir un perro al azar? ¿Y un gato?\n",
    "    Agrege np.random.seed(2) al inicio del chunk. ¿Qué hace éste método en la simulación?"
   ]
  },
  {
   "cell_type": "code",
   "execution_count": 11,
   "metadata": {},
   "outputs": [],
   "source": [
    "np.random.seed(2)\n",
    "def generate_pet():\n",
    "    animales = ['perro','gato']\n",
    "    return np.random.choice(animales)"
   ]
  },
  {
   "cell_type": "code",
   "execution_count": 12,
   "metadata": {},
   "outputs": [
    {
     "name": "stdout",
     "output_type": "stream",
     "text": [
      " La probabilidad de gato es: 0.6 \n",
      " La probabilidad de perro es: 0.4\n"
     ]
    }
   ],
   "source": [
    "animales = []\n",
    "for i in range(20):\n",
    "    animales.append(generate_pet())\n",
    "prob_gato = animales.count('gato')/len(animales)\n",
    "prog_perro = animales.count('perro')/len(animales)\n",
    "\n",
    "print(' La probabilidad de gato es:',prob_gato,'\\n','La probabilidad de perro es:',prog_perro)"
   ]
  },
  {
   "cell_type": "markdown",
   "metadata": {},
   "source": [
    "Agregar 'np.random.seed(2)' hace que siempre se obtenga los mismos valores del random"
   ]
  },
  {
   "cell_type": "markdown",
   "metadata": {},
   "source": [
    "### Desafio 4\n",
    "\n",
    "    Genere un método llamado simulate_pets_prob que tome como argumento un número finito\n",
    "    de simulaciones a generar.\n",
    "    El método debe simular dos situaciones young_pet y old_pet , y contar la ocurrencia de los\n",
    "    siguientes casos:\n",
    "    1. De los dos animales simulados, contar las ocasiones donde por lo menos uno de los\n",
    "    animales sea un perro.\n",
    "    De los dos animales simulados, contar las ocasiones donde por lo menos uno sea un perro\n",
    "    viejo.\n",
    "    De los dos animales simulados, contar las ocasiones donde los dos sean perros\n",
    "    El método debe tener una semilla pseudoaleatoria de 1.\n",
    "    De los tres escenarios, ¿Cuál es el menos probable? ¿Cuál es el más probable?"
   ]
  },
  {
   "cell_type": "code",
   "execution_count": 13,
   "metadata": {},
   "outputs": [],
   "source": [
    "def simulate_pets_prob(n):\n",
    "    posibilidades = ['young_pet','old_pet']\n",
    "    n_1 = 0 #por lo menos uno de los animales sea un perro.\n",
    "    n_2 = 0 #por lo menos uno sea un perro viejo.\n",
    "    n_3 = 0 #los dos sean perros\n",
    "    for i in range(n):\n",
    "        young_animal = [posibilidades[0],generate_pet()]\n",
    "        old_animal = [posibilidades[1],generate_pet()]\n",
    "        if 'perro' in young_animal or 'perro' in old_animal:\n",
    "            n_1+=1 # Se cuentan las veces que al menos 1 es perro\n",
    "            if 'perro' in old_animal:\n",
    "                n_2 += 1 #por lo menos uno sea un perro viejo, debido a que si solo hay gatos no evaluara esta condicion\n",
    "        if 'perro' in young_animal and 'perro' in old_animal:\n",
    "            n_3 += 1 #los dos sean perros\n",
    "    return n_1,n_2,n_3"
   ]
  },
  {
   "cell_type": "code",
   "execution_count": 14,
   "metadata": {},
   "outputs": [
    {
     "data": {
      "text/plain": [
       "[[(1, 1, 1), (0, 0, 0), (1, 1, 0), (1, 1, 1), (0, 0, 0)],\n",
       " [(8, 6, 3), (7, 3, 3), (8, 8, 5), (10, 6, 4), (8, 3, 2)],\n",
       " [(68, 43, 20), (77, 50, 24), (78, 54, 29), (73, 55, 27), (80, 61, 28)],\n",
       " [(750, 477, 218),\n",
       "  (738, 488, 248),\n",
       "  (737, 497, 260),\n",
       "  (752, 523, 254),\n",
       "  (746, 480, 251)],\n",
       " [(7498, 4946, 2427),\n",
       "  (7602, 5035, 2548),\n",
       "  (7548, 5033, 2517),\n",
       "  (7482, 5009, 2530),\n",
       "  (7488, 4962, 2434)]]"
      ]
     },
     "execution_count": 14,
     "metadata": {},
     "output_type": "execute_result"
    }
   ],
   "source": [
    "simulaciones = [1,10,100,1000,10000]\n",
    "resultuados = []\n",
    "for i in simulaciones:\n",
    "    resultuados_in = []\n",
    "    for j in simulaciones:\n",
    "        resultuados_in.append(simulate_pets_prob(i))\n",
    "    resultuados.append(resultuados_in)\n",
    "resultuados"
   ]
  },
  {
   "cell_type": "code",
   "execution_count": 15,
   "metadata": {},
   "outputs": [
    {
     "data": {
      "text/plain": [
       "[[(0, 0, 0), (0, 0, 0), (0, 0, 0), (0, 0, 0), (0, 0, 0)],\n",
       " [(7, 4, 2), (7, 4, 2), (7, 4, 2), (7, 4, 2), (7, 4, 2)],\n",
       " [(72, 51, 27), (72, 51, 27), (72, 51, 27), (72, 51, 27), (72, 51, 27)],\n",
       " [(746, 514, 279),\n",
       "  (746, 514, 279),\n",
       "  (746, 514, 279),\n",
       "  (746, 514, 279),\n",
       "  (746, 514, 279)],\n",
       " [(7514, 4994, 2536),\n",
       "  (7514, 4994, 2536),\n",
       "  (7514, 4994, 2536),\n",
       "  (7514, 4994, 2536),\n",
       "  (7514, 4994, 2536)]]"
      ]
     },
     "execution_count": 15,
     "metadata": {},
     "output_type": "execute_result"
    }
   ],
   "source": [
    "#Se añade la semilla para comparar\n",
    "def simulate_pets_prob(n):\n",
    "    np.random.seed(1)\n",
    "    posibilidades = ['young_pet','old_pet']\n",
    "    n_1 = 0 #por lo menos uno de los animales sea un perro.\n",
    "    n_2 = 0 #por lo menos uno sea un perro viejo.\n",
    "    n_3 = 0 #los dos sean perros\n",
    "    for i in range(n):\n",
    "        young_animal = [posibilidades[0],generate_pet()]\n",
    "        old_animal = [posibilidades[1],generate_pet()]\n",
    "        if 'perro' in young_animal or 'perro' in old_animal:\n",
    "            n_1+=1 # Se cuentan las veces que al menos 1 es perro\n",
    "            if 'perro' in old_animal:\n",
    "                n_2 += 1 #por lo menos uno sea un perro viejo, debido a que si solo hay gatos no evaluara esta condicion\n",
    "        if 'perro' in young_animal and 'perro' in old_animal:\n",
    "            n_3 += 1 #los dos sean perros\n",
    "    return n_1,n_2,n_3\n",
    "simulaciones = [1,10,100,1000,10000]\n",
    "resultuados = []\n",
    "for i in simulaciones:\n",
    "    resultuados_in = []\n",
    "    for j in simulaciones:\n",
    "        resultuados_in.append(simulate_pets_prob(i))\n",
    "    resultuados.append(resultuados_in)\n",
    "resultuados\n"
   ]
  },
  {
   "cell_type": "markdown",
   "metadata": {},
   "source": [
    "Como analisis con y sin la semilla el 1er caso es el mas probable, esto es deducible debido a que utiliza una condicion or simple, haciendo mas amplio el rango de opciones que cumplen con las condiciones"
   ]
  },
  {
   "cell_type": "code",
   "execution_count": null,
   "metadata": {},
   "outputs": [],
   "source": []
  }
 ],
 "metadata": {
  "kernelspec": {
   "display_name": "Python 3",
   "language": "python",
   "name": "python3"
  },
  "language_info": {
   "codemirror_mode": {
    "name": "ipython",
    "version": 3
   },
   "file_extension": ".py",
   "mimetype": "text/x-python",
   "name": "python",
   "nbconvert_exporter": "python",
   "pygments_lexer": "ipython3",
   "version": "3.6.8"
  }
 },
 "nbformat": 4,
 "nbformat_minor": 2
}
