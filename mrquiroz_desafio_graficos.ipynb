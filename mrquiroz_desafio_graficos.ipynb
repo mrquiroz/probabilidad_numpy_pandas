{
 "cells": [
  {
   "cell_type": "markdown",
   "metadata": {},
   "source": [
    "### Moises Quiroz Diaz\n"
   ]
  },
  {
   "cell_type": "markdown",
   "metadata": {},
   "source": [
    "### 1. Genere una submuestra de casos\n",
    "Utilice los últimos 4 dígitos de su rut como semilla pseudoaleatoria.\n",
    "Seleccione el 50% de los casos.\n",
    "Cada base generada debe contener los siguientes elementos:\n",
    "\n",
    "    El índice de desarrollo humano ( undp_hdi )\n",
    "    El nombre del país ( ccodealp )\n",
    "    La región a la que pertenece ( ht_region )\n",
    "    El PIB per capita. ( gle_cgdpc )\n",
    "    El total de la población ( imf_pop )"
   ]
  },
  {
   "cell_type": "markdown",
   "metadata": {},
   "source": [
    "Si su apellido está entre la N y la Z, escoja las siguientes variables del módulo Salud:"
   ]
  },
  {
   "cell_type": "markdown",
   "metadata": {},
   "source": [
    "    wef_imort : Infant mortality, deaths/1000 live births\n",
    "    who_alc2000 : Alcohol consumption per capita (2000-)\n",
    "    who_tobt : Current smoking of any tobacco product (Total).\n",
    "    wdi_exph : Government expenditure on health, total (% of GDP)\n",
    "    Guarde esta tabla procesada en un nuevo objeto\n",
    "    Renombre las categorías de la variable ht_region de números a regiones"
   ]
  },
  {
   "cell_type": "code",
   "execution_count": 1,
   "metadata": {},
   "outputs": [],
   "source": [
    "import pandas as pd\n",
    "import numpy as np"
   ]
  },
  {
   "cell_type": "code",
   "execution_count": 2,
   "metadata": {},
   "outputs": [
    {
     "data": {
      "text/html": [
       "<div>\n",
       "<style scoped>\n",
       "    .dataframe tbody tr th:only-of-type {\n",
       "        vertical-align: middle;\n",
       "    }\n",
       "\n",
       "    .dataframe tbody tr th {\n",
       "        vertical-align: top;\n",
       "    }\n",
       "\n",
       "    .dataframe thead th {\n",
       "        text-align: right;\n",
       "    }\n",
       "</style>\n",
       "<table border=\"1\" class=\"dataframe\">\n",
       "  <thead>\n",
       "    <tr style=\"text-align: right;\">\n",
       "      <th></th>\n",
       "      <th>ccode</th>\n",
       "      <th>cname</th>\n",
       "      <th>ccodealp</th>\n",
       "      <th>ccodecow</th>\n",
       "      <th>ccodewb</th>\n",
       "      <th>version</th>\n",
       "      <th>aid_cpnc</th>\n",
       "      <th>aid_cpsc</th>\n",
       "      <th>aid_crnc</th>\n",
       "      <th>aid_crnio</th>\n",
       "      <th>...</th>\n",
       "      <th>wvs_relacc</th>\n",
       "      <th>wvs_relsch</th>\n",
       "      <th>wvs_relsci</th>\n",
       "      <th>wvs_satfin</th>\n",
       "      <th>wvs_satlif</th>\n",
       "      <th>wvs_screl</th>\n",
       "      <th>wvs_subh</th>\n",
       "      <th>wvs_survself</th>\n",
       "      <th>wvs_tradrat</th>\n",
       "      <th>wvs_trust</th>\n",
       "    </tr>\n",
       "  </thead>\n",
       "  <tbody>\n",
       "    <tr>\n",
       "      <th>0</th>\n",
       "      <td>4</td>\n",
       "      <td>Afghanistan</td>\n",
       "      <td>AFG</td>\n",
       "      <td>700.0</td>\n",
       "      <td>4.0</td>\n",
       "      <td>QoGStdCSJan18</td>\n",
       "      <td>NaN</td>\n",
       "      <td>NaN</td>\n",
       "      <td>29.0</td>\n",
       "      <td>13.0</td>\n",
       "      <td>...</td>\n",
       "      <td>NaN</td>\n",
       "      <td>NaN</td>\n",
       "      <td>NaN</td>\n",
       "      <td>NaN</td>\n",
       "      <td>NaN</td>\n",
       "      <td>NaN</td>\n",
       "      <td>NaN</td>\n",
       "      <td>NaN</td>\n",
       "      <td>NaN</td>\n",
       "      <td>NaN</td>\n",
       "    </tr>\n",
       "    <tr>\n",
       "      <th>1</th>\n",
       "      <td>8</td>\n",
       "      <td>Albania</td>\n",
       "      <td>ALB</td>\n",
       "      <td>339.0</td>\n",
       "      <td>8.0</td>\n",
       "      <td>QoGStdCSJan18</td>\n",
       "      <td>NaN</td>\n",
       "      <td>NaN</td>\n",
       "      <td>26.0</td>\n",
       "      <td>13.0</td>\n",
       "      <td>...</td>\n",
       "      <td>NaN</td>\n",
       "      <td>NaN</td>\n",
       "      <td>NaN</td>\n",
       "      <td>NaN</td>\n",
       "      <td>NaN</td>\n",
       "      <td>NaN</td>\n",
       "      <td>NaN</td>\n",
       "      <td>NaN</td>\n",
       "      <td>NaN</td>\n",
       "      <td>NaN</td>\n",
       "    </tr>\n",
       "    <tr>\n",
       "      <th>2</th>\n",
       "      <td>12</td>\n",
       "      <td>Algeria</td>\n",
       "      <td>DZA</td>\n",
       "      <td>615.0</td>\n",
       "      <td>12.0</td>\n",
       "      <td>QoGStdCSJan18</td>\n",
       "      <td>NaN</td>\n",
       "      <td>NaN</td>\n",
       "      <td>21.0</td>\n",
       "      <td>6.0</td>\n",
       "      <td>...</td>\n",
       "      <td>3.710616</td>\n",
       "      <td>1.704692</td>\n",
       "      <td>3.681347</td>\n",
       "      <td>5.988125</td>\n",
       "      <td>6.301029</td>\n",
       "      <td>5.339371</td>\n",
       "      <td>3.805579</td>\n",
       "      <td>-0.409807</td>\n",
       "      <td>-0.498164</td>\n",
       "      <td>0.179286</td>\n",
       "    </tr>\n",
       "    <tr>\n",
       "      <th>3</th>\n",
       "      <td>20</td>\n",
       "      <td>Andorra</td>\n",
       "      <td>AND</td>\n",
       "      <td>232.0</td>\n",
       "      <td>20.0</td>\n",
       "      <td>QoGStdCSJan18</td>\n",
       "      <td>NaN</td>\n",
       "      <td>NaN</td>\n",
       "      <td>NaN</td>\n",
       "      <td>NaN</td>\n",
       "      <td>...</td>\n",
       "      <td>NaN</td>\n",
       "      <td>NaN</td>\n",
       "      <td>NaN</td>\n",
       "      <td>NaN</td>\n",
       "      <td>NaN</td>\n",
       "      <td>NaN</td>\n",
       "      <td>NaN</td>\n",
       "      <td>NaN</td>\n",
       "      <td>NaN</td>\n",
       "      <td>NaN</td>\n",
       "    </tr>\n",
       "    <tr>\n",
       "      <th>4</th>\n",
       "      <td>24</td>\n",
       "      <td>Angola</td>\n",
       "      <td>AGO</td>\n",
       "      <td>540.0</td>\n",
       "      <td>24.0</td>\n",
       "      <td>QoGStdCSJan18</td>\n",
       "      <td>NaN</td>\n",
       "      <td>NaN</td>\n",
       "      <td>22.0</td>\n",
       "      <td>13.0</td>\n",
       "      <td>...</td>\n",
       "      <td>NaN</td>\n",
       "      <td>NaN</td>\n",
       "      <td>NaN</td>\n",
       "      <td>NaN</td>\n",
       "      <td>NaN</td>\n",
       "      <td>NaN</td>\n",
       "      <td>NaN</td>\n",
       "      <td>NaN</td>\n",
       "      <td>NaN</td>\n",
       "      <td>NaN</td>\n",
       "    </tr>\n",
       "  </tbody>\n",
       "</table>\n",
       "<p>5 rows × 1882 columns</p>\n",
       "</div>"
      ],
      "text/plain": [
       "   ccode        cname ccodealp  ccodecow  ccodewb        version  aid_cpnc  \\\n",
       "0      4  Afghanistan      AFG     700.0      4.0  QoGStdCSJan18       NaN   \n",
       "1      8      Albania      ALB     339.0      8.0  QoGStdCSJan18       NaN   \n",
       "2     12      Algeria      DZA     615.0     12.0  QoGStdCSJan18       NaN   \n",
       "3     20      Andorra      AND     232.0     20.0  QoGStdCSJan18       NaN   \n",
       "4     24       Angola      AGO     540.0     24.0  QoGStdCSJan18       NaN   \n",
       "\n",
       "   aid_cpsc  aid_crnc  aid_crnio  ...  wvs_relacc  wvs_relsch  wvs_relsci  \\\n",
       "0       NaN      29.0       13.0  ...         NaN         NaN         NaN   \n",
       "1       NaN      26.0       13.0  ...         NaN         NaN         NaN   \n",
       "2       NaN      21.0        6.0  ...    3.710616    1.704692    3.681347   \n",
       "3       NaN       NaN        NaN  ...         NaN         NaN         NaN   \n",
       "4       NaN      22.0       13.0  ...         NaN         NaN         NaN   \n",
       "\n",
       "   wvs_satfin  wvs_satlif  wvs_screl  wvs_subh  wvs_survself  wvs_tradrat  \\\n",
       "0         NaN         NaN        NaN       NaN           NaN          NaN   \n",
       "1         NaN         NaN        NaN       NaN           NaN          NaN   \n",
       "2    5.988125    6.301029   5.339371  3.805579     -0.409807    -0.498164   \n",
       "3         NaN         NaN        NaN       NaN           NaN          NaN   \n",
       "4         NaN         NaN        NaN       NaN           NaN          NaN   \n",
       "\n",
       "   wvs_trust  \n",
       "0        NaN  \n",
       "1        NaN  \n",
       "2   0.179286  \n",
       "3        NaN  \n",
       "4        NaN  \n",
       "\n",
       "[5 rows x 1882 columns]"
      ]
     },
     "execution_count": 2,
     "metadata": {},
     "output_type": "execute_result"
    }
   ],
   "source": [
    "df = pd.read_csv('qog_std_cs_jan18.csv')\n",
    "df.head()"
   ]
  },
  {
   "cell_type": "code",
   "execution_count": 3,
   "metadata": {},
   "outputs": [],
   "source": [
    "np.random.seed(8914) # 1895'8914'-k\n",
    "base = df[['cname','undp_hdi','ccodealp','ht_region','gle_cgdpc','imf_pop','wef_imort','who_alc2000','who_tobt','wdi_exph']].sample(frac=0.5)\n",
    "base.ht_region.replace([1, 2, 3, 4, 5, 6, 7, 8, 9, 10], [\"EastEurope\", \"LatAm\", \"NorthAfrica\", \"SubSaharian\", \"WesternDem\", \"EastAsia\", \"SouthEastAsia\", \"SouthAsia\", \"Pacific\", \"Caribbean\"], inplace=True)\n",
    "base.to_csv('subsample_mrqd.csv')\n",
    "base.hac"
   ]
  },
  {
   "cell_type": "markdown",
   "metadata": {},
   "source": [
    "### Genere una función que ingrese su objeto y devuelva:\n",
    "\n",
    "    Por cada variable existente en su objeto, calcule las medidas descriptivas para los casos\n",
    "    contínuos\n",
    "    Para cada variable discreta, que calcule la frecuencia.\n",
    "    Reporte las estadísticas descriptivas para gle_cgdpc , undp_hdi , imf_pop .\n",
    "    Compare las estadísticas con algún compañero. ¿Ve alguna diferencia substancial en alguna\n",
    "    de ellas?"
   ]
  },
  {
   "cell_type": "code",
   "execution_count": 133,
   "metadata": {},
   "outputs": [],
   "source": [
    "def genera(df):\n",
    "    columnas = df.columns\n",
    "    columnas = list(columnas)\n",
    "    columnas.remove('cname')\n",
    "    columnas.remove('ccodealp')\n",
    "    columnas.remove('ht_region')\n",
    "    fu = lambda x: np.mean(df[x])\n",
    "    analisis = list(map(fu,columnas))\n",
    "    analisis = {columnas[i]:analisis[i] for i in range(len(columnas))}\n",
    "    return analisis"
   ]
  },
  {
   "cell_type": "markdown",
   "metadata": {},
   "source": [
    "#### Genere una función que liste las observaciones perdidas de una variable"
   ]
  },
  {
   "cell_type": "markdown",
   "metadata": {},
   "source": [
    "La función debe contener los siguientes argumentos:\n",
    "\n",
    "    dataframe : La función debe ingresar un objeto DataFrame.\n",
    "    var : Variable a inspeccionar.\n",
    "    print_list : Opción para imprimir la lista de observaciones perdidas en la variable.Debe ser False por defecto.\n",
    "La función debe retornar la cantidad de casos perdidos y el porcentaje correspondiente.\n",
    "Cuando print_list = True , debe retornar la lista de casos.\n",
    "Analice todas las variables y sus casos perdidos.\n",
    "Para las 3 variables con un mayor porcentaje de casos perdidos, solicite la lista de países con\n",
    "ausencia de datos."
   ]
  },
  {
   "cell_type": "code",
   "execution_count": 4,
   "metadata": {},
   "outputs": [],
   "source": [
    "def count_nan(df,var,print_list=False): \n",
    "    serie = df[var]\n",
    "    cantidad = 0\n",
    "    for i in serie:\n",
    "        if i == 'Nan':   # Lo anterior por que en el sample csv los Nan eran string\n",
    "            cantidad += 1\n",
    "        elif type(i) == np.float:\n",
    "            if np.isnan(i):\n",
    "                cantidad +=1\n",
    "    porcentaje = cantidad/len(serie)\n",
    "    if (print_list):\n",
    "        index_registro = []\n",
    "        for i,j in serie.items():\n",
    "            if type(j) == np.float or j == 'Nan':\n",
    "                if j == 'Nan':\n",
    "                    index_registro.append(i)\n",
    "                elif np.isnan(j):\n",
    "                    index_registro.append(i)\n",
    "        return cantidad,porcentaje,index_registro\n",
    "    return cantidad,porcentaje"
   ]
  },
  {
   "cell_type": "code",
   "execution_count": 5,
   "metadata": {},
   "outputs": [
    {
     "data": {
      "text/plain": [
       "(3, 0.030927835051546393, [179, 89, 37])"
      ]
     },
     "execution_count": 5,
     "metadata": {},
     "output_type": "execute_result"
    }
   ],
   "source": [
    "count_nan(base,'undp_hdi',True)"
   ]
  },
  {
   "cell_type": "code",
   "execution_count": 135,
   "metadata": {},
   "outputs": [
    {
     "data": {
      "text/html": [
       "<div>\n",
       "<style scoped>\n",
       "    .dataframe tbody tr th:only-of-type {\n",
       "        vertical-align: middle;\n",
       "    }\n",
       "\n",
       "    .dataframe tbody tr th {\n",
       "        vertical-align: top;\n",
       "    }\n",
       "\n",
       "    .dataframe thead th {\n",
       "        text-align: right;\n",
       "    }\n",
       "</style>\n",
       "<table border=\"1\" class=\"dataframe\">\n",
       "  <thead>\n",
       "    <tr style=\"text-align: right;\">\n",
       "      <th></th>\n",
       "      <th>cname</th>\n",
       "      <th>undp_hdi</th>\n",
       "      <th>ccodealp</th>\n",
       "      <th>ht_region</th>\n",
       "      <th>gle_cgdpc</th>\n",
       "      <th>imf_pop</th>\n",
       "      <th>wef_imort</th>\n",
       "      <th>who_alc2000</th>\n",
       "      <th>who_tobt</th>\n",
       "      <th>wdi_exph</th>\n",
       "    </tr>\n",
       "  </thead>\n",
       "  <tbody>\n",
       "    <tr>\n",
       "      <th>0</th>\n",
       "      <td>0.0</td>\n",
       "      <td>3.000000</td>\n",
       "      <td>0.0</td>\n",
       "      <td>0.0</td>\n",
       "      <td>1.000000</td>\n",
       "      <td>24.000000</td>\n",
       "      <td>19.000000</td>\n",
       "      <td>5.000000</td>\n",
       "      <td>33.000000</td>\n",
       "      <td>3.000000</td>\n",
       "    </tr>\n",
       "    <tr>\n",
       "      <th>1</th>\n",
       "      <td>0.0</td>\n",
       "      <td>0.030928</td>\n",
       "      <td>0.0</td>\n",
       "      <td>0.0</td>\n",
       "      <td>0.010309</td>\n",
       "      <td>0.247423</td>\n",
       "      <td>0.195876</td>\n",
       "      <td>0.051546</td>\n",
       "      <td>0.340206</td>\n",
       "      <td>0.030928</td>\n",
       "    </tr>\n",
       "  </tbody>\n",
       "</table>\n",
       "</div>"
      ],
      "text/plain": [
       "   cname  undp_hdi  ccodealp  ht_region  gle_cgdpc    imf_pop  wef_imort  \\\n",
       "0    0.0  3.000000       0.0        0.0   1.000000  24.000000  19.000000   \n",
       "1    0.0  0.030928       0.0        0.0   0.010309   0.247423   0.195876   \n",
       "\n",
       "   who_alc2000   who_tobt  wdi_exph  \n",
       "0     5.000000  33.000000  3.000000  \n",
       "1     0.051546   0.340206  0.030928  "
      ]
     },
     "execution_count": 135,
     "metadata": {},
     "output_type": "execute_result"
    }
   ],
   "source": [
    "def count_nan_df(base):\n",
    "    columnas = base.columns\n",
    "    fu = lambda x: count_nan(df= base,var =x)\n",
    "    analisis = {columnas[i]:list(map(fu,columnas))[i] for i in range(len(columnas))}\n",
    "    analisis = pd.DataFrame.from_dict(analisis)\n",
    "    analisis.rename(index={0:'cantidad Nan',1:'porcentaje Nan'})\n",
    "    return analisis\n",
    "\n",
    "\n",
    "count_nan_df(base)"
   ]
  },
  {
   "cell_type": "markdown",
   "metadata": {},
   "source": [
    "Para las 3 variables con un mayor porcentaje de casos perdidos, solicite la lista de países con\n",
    "ausencia de datos."
   ]
  },
  {
   "cell_type": "code",
   "execution_count": 9,
   "metadata": {},
   "outputs": [
    {
     "name": "stdout",
     "output_type": "stream",
     "text": [
      "[(24, 0.24742268041237114, [41, 125, 192, 61, 29, 99, 44, 55, 175, 42, 3, 40, 97, 193, 5, 89, 19, 151, 50, 139, 32, 34, 163, 63]), (33, 0.3402061855670103, [41, 21, 165, 192, 61, 99, 130, 4, 55, 170, 135, 22, 2, 175, 114, 17, 98, 179, 147, 124, 45, 5, 89, 19, 144, 139, 172, 174, 37, 32, 34, 163, 63]), (19, 0.1958762886597938, [173, 125, 99, 44, 130, 55, 22, 3, 39, 40, 179, 147, 5, 89, 139, 172, 27, 32, 163])]\n"
     ]
    }
   ],
   "source": [
    "mayores =  ['imf_pop','who_tobt','wef_imort']\n",
    "fu = lambda x: count_nan(df=base,var =x,print_list=True)\n",
    "res =list(map(fu,mayores))\n",
    "if res[0][2] == res[2][2] == res[1][2]:\n",
    "    res =np.array(list(map(fu,mayores))[0][2])\n",
    "print(res)"
   ]
  },
  {
   "cell_type": "markdown",
   "metadata": {},
   "source": [
    "### Grafique los histogramas"
   ]
  },
  {
   "cell_type": "code",
   "execution_count": 37,
   "metadata": {},
   "outputs": [],
   "source": [
    "import matplotlib.pyplot as plt\n",
    "\n",
    "variables = ['wef_imort','who_alc2000','who_tobt','wdi_exph']\n",
    "df_o = pd.read_csv('qog_std_cs_jan18.csv')\n",
    "def histograma(df,var,true_mean=False,sample_mean=False):\n",
    "    \n",
    "    plt.hist(df[var])\n",
    "    bottom, top = plt.ylim()  # return the current ylim\n",
    "    plt.ylim((bottom, top))   # set the ylim to bottom, top\n",
    "    plt.ylim(bottom, top)\n",
    "    if sample_mean:\n",
    "        plt.axvline(df[var].mean(), color='k', linestyle='dashed', linewidth=1)\n",
    "        plt.text(df[var].mean() + df[var].mean()/10, top-top/10, 'Mean: {:.2f}'.format(df[var].mean()))\n",
    "    if true_mean:\n",
    "        plt.axvline(df_o[var].mean(), color='r', linestyle='dashed', linewidth=1)\n",
    "        plt.text(np.mean(df_o[var]) + np.mean(df_o[var])/10, top-top/5, 'True Mean: {:.2f}'.format(np.mean(df_o[var])),bbox=dict(facecolor='red', alpha=0.5))\n",
    "    plt.show"
   ]
  },
  {
   "cell_type": "code",
   "execution_count": 38,
   "metadata": {},
   "outputs": [
    {
     "data": {
      "image/png": "[encoded data removed]",
      "text/plain": [
       "<Figure size 432x288 with 1 Axes>"
      ]
     },
     "metadata": {
      "needs_background": "light"
     },
     "output_type": "display_data"
    }
   ],
   "source": [
    "histograma(base,'wef_imort',true_mean=True,sample_mean=True)"
   ]
  },
  {
   "cell_type": "code",
   "execution_count": 39,
   "metadata": {},
   "outputs": [
    {
     "data": {
      "image/png": "[encoded data removed]",
      "text/plain": [
       "<Figure size 432x288 with 1 Axes>"
      ]
     },
     "metadata": {
      "needs_background": "light"
     },
     "output_type": "display_data"
    }
   ],
   "source": [
    "histograma(base,'who_alc2000',true_mean=True,sample_mean=True)"
   ]
  },
  {
   "cell_type": "code",
   "execution_count": 40,
   "metadata": {},
   "outputs": [
    {
     "data": {
      "image/png": "[encoded data removed]",
      "text/plain": [
       "<Figure size 432x288 with 1 Axes>"
      ]
     },
     "metadata": {
      "needs_background": "light"
     },
     "output_type": "display_data"
    }
   ],
   "source": [
    "histograma(base,'who_tobt',true_mean=True,sample_mean=True)"
   ]
  },
  {
   "cell_type": "code",
   "execution_count": 41,
   "metadata": {},
   "outputs": [
    {
     "data": {
      "image/png": "[encoded data removed]",
      "text/plain": [
       "<Figure size 432x288 with 1 Axes>"
      ]
     },
     "metadata": {
      "needs_background": "light"
     },
     "output_type": "display_data"
    }
   ],
   "source": [
    "histograma(base,'wdi_exph',true_mean=True,sample_mean=True)"
   ]
  },
  {
   "cell_type": "markdown",
   "metadata": {},
   "source": [
    "¿En qué variables la media de la submuestra es mayor a la de la muestra completa?\n",
    "\n",
    "    En las variables who_alc2000,wef_imort,wdi_exph y who_tobt"
   ]
  },
  {
   "cell_type": "markdown",
   "metadata": {},
   "source": [
    "### Genere una función que devuelva un dotplot"
   ]
  },
  {
   "cell_type": "code",
   "execution_count": 153,
   "metadata": {},
   "outputs": [],
   "source": [
    "import matplotlib.pyplot as plt\n",
    "def gen_dot(df,plot_var,plot_by,global_stat=False,statistic='mean'):\n",
    "    if statistic == 'mean':\n",
    "        if global_stat:\n",
    "            var1 = df.groupby(plot_by)[plot_var].mean()\n",
    "            var = plot_var\n",
    "            plt.plot(var1.values, var1.index, 'o')\n",
    "            plt.axvline(df[var].mean(), color='k', linestyle='dashed', linewidth=1)\n",
    "            plt.text(df[var].mean() + df[var].mean()/10, 5, 'Mean: {:.2f}'.format(df[var].mean()))\n",
    "            plt.show()\n",
    "        else:\n",
    "            var1 = df.groupby(plot_by)[plot_var].mean()\n",
    "            plt.plot(var1.values, var1.index, 'o')\n",
    "            plt.show()\n",
    "    if statistic == 'median':\n",
    "        if global_stat:\n",
    "            var1 = df.groupby(plot_by)[plot_var].median()\n",
    "            var = plot_var\n",
    "            plt.plot(var1.values, var1.index, 'o')\n",
    "            plt.axvline(df[var].median(), color='k', linestyle='dashed', linewidth=1)\n",
    "            plt.text(df[var].median() + df[var].median()/10, 5, 'Mediana: {:.2f}'.format(df[var].median()))\n",
    "            plt.show()\n",
    "        else:\n",
    "            var1 = df.groupby(plot_by)[plot_var].median()\n",
    "            plt.plot(var1.values, var1.index, 'o')\n",
    "            plt.show()"
   ]
  },
  {
   "cell_type": "code",
   "execution_count": 155,
   "metadata": {},
   "outputs": [
    {
     "data": {
      "image/png": "[encoded data removed]",
      "text/plain": [
       "<Figure size 432x288 with 1 Axes>"
      ]
     },
     "metadata": {
      "needs_background": "light"
     },
     "output_type": "display_data"
    }
   ],
   "source": [
    "gen_dot(base,'wdi_exph','ht_region',True,statistic='median')"
   ]
  },
  {
   "cell_type": "code",
   "execution_count": 156,
   "metadata": {},
   "outputs": [
    {
     "data": {
      "image/png": "[encoded data removed]",
      "text/plain": [
       "<Figure size 432x288 with 1 Axes>"
      ]
     },
     "metadata": {
      "needs_background": "light"
     },
     "output_type": "display_data"
    }
   ],
   "source": [
    "gen_dot(base,'who_tobt','ht_region',True,statistic='median')"
   ]
  },
  {
   "cell_type": "code",
   "execution_count": 157,
   "metadata": {},
   "outputs": [
    {
     "data": {
      "image/png": "[encoded data removed]",
      "text/plain": [
       "<Figure size 432x288 with 1 Axes>"
      ]
     },
     "metadata": {
      "needs_background": "light"
     },
     "output_type": "display_data"
    }
   ],
   "source": [
    "gen_dot(base,'wef_imort','ht_region',True,statistic='median')"
   ]
  }
 ],
 "metadata": {
  "kernelspec": {
   "display_name": "Python 3",
   "language": "python",
   "name": "python3"
  },
  "language_info": {
   "codemirror_mode": {
    "name": "ipython",
    "version": 3
   },
   "file_extension": ".py",
   "mimetype": "text/x-python",
   "name": "python",
   "nbconvert_exporter": "python",
   "pygments_lexer": "ipython3",
   "version": "3.6.8"
  }
 },
 "nbformat": 4,
 "nbformat_minor": 2
}
